{
 "cells": [
  {
   "cell_type": "code",
   "execution_count": 1,
   "metadata": {},
   "outputs": [],
   "source": [
    "%matplotlib inline\n",
    "import matplotlib.pyplot as plt\n",
    "\n",
    "import numpy as np\n",
    "import pandas as pd \n",
    "import seaborn as sns\n",
    "import statsmodels.api as sm\n",
    "import warnings\n",
    "from random import random\n",
    "import itertools\n",
    "\n",
    "from sklearn.metrics import mean_squared_error\n",
    "import os"
   ]
  },
  {
   "cell_type": "markdown",
   "metadata": {},
   "source": [
    "#### 1. Прочитайте базу my_PJME_MW.csv и сделайте ее перрасчет (ресемплинг) в представление по 1 месяцу."
   ]
  },
  {
   "cell_type": "code",
   "execution_count": 2,
   "metadata": {},
   "outputs": [
    {
     "data": {
      "text/html": [
       "<div>\n",
       "<style scoped>\n",
       "    .dataframe tbody tr th:only-of-type {\n",
       "        vertical-align: middle;\n",
       "    }\n",
       "\n",
       "    .dataframe tbody tr th {\n",
       "        vertical-align: top;\n",
       "    }\n",
       "\n",
       "    .dataframe thead th {\n",
       "        text-align: right;\n",
       "    }\n",
       "</style>\n",
       "<table border=\"1\" class=\"dataframe\">\n",
       "  <thead>\n",
       "    <tr style=\"text-align: right;\">\n",
       "      <th></th>\n",
       "      <th>Time</th>\n",
       "      <th>PJME_MW</th>\n",
       "      <th>year</th>\n",
       "      <th>month</th>\n",
       "      <th>dayofmonth</th>\n",
       "      <th>quarter</th>\n",
       "      <th>dayofyear</th>\n",
       "      <th>weekofyear</th>\n",
       "      <th>dayofweek</th>\n",
       "      <th>hour</th>\n",
       "      <th>is_holiday</th>\n",
       "      <th>is_prev_holiday</th>\n",
       "      <th>is_next_holiday</th>\n",
       "    </tr>\n",
       "    <tr>\n",
       "      <th>Date</th>\n",
       "      <th></th>\n",
       "      <th></th>\n",
       "      <th></th>\n",
       "      <th></th>\n",
       "      <th></th>\n",
       "      <th></th>\n",
       "      <th></th>\n",
       "      <th></th>\n",
       "      <th></th>\n",
       "      <th></th>\n",
       "      <th></th>\n",
       "      <th></th>\n",
       "      <th></th>\n",
       "    </tr>\n",
       "  </thead>\n",
       "  <tbody>\n",
       "    <tr>\n",
       "      <th>2002-01-01</th>\n",
       "      <td>01:00:00</td>\n",
       "      <td>30393.0</td>\n",
       "      <td>2002</td>\n",
       "      <td>1</td>\n",
       "      <td>1</td>\n",
       "      <td>1</td>\n",
       "      <td>1</td>\n",
       "      <td>1</td>\n",
       "      <td>1</td>\n",
       "      <td>1</td>\n",
       "      <td>1</td>\n",
       "      <td>0</td>\n",
       "      <td>0</td>\n",
       "    </tr>\n",
       "    <tr>\n",
       "      <th>2002-01-01</th>\n",
       "      <td>02:00:00</td>\n",
       "      <td>29265.0</td>\n",
       "      <td>2002</td>\n",
       "      <td>1</td>\n",
       "      <td>1</td>\n",
       "      <td>1</td>\n",
       "      <td>1</td>\n",
       "      <td>1</td>\n",
       "      <td>1</td>\n",
       "      <td>2</td>\n",
       "      <td>1</td>\n",
       "      <td>0</td>\n",
       "      <td>0</td>\n",
       "    </tr>\n",
       "    <tr>\n",
       "      <th>2002-01-01</th>\n",
       "      <td>03:00:00</td>\n",
       "      <td>28357.0</td>\n",
       "      <td>2002</td>\n",
       "      <td>1</td>\n",
       "      <td>1</td>\n",
       "      <td>1</td>\n",
       "      <td>1</td>\n",
       "      <td>1</td>\n",
       "      <td>1</td>\n",
       "      <td>3</td>\n",
       "      <td>1</td>\n",
       "      <td>0</td>\n",
       "      <td>0</td>\n",
       "    </tr>\n",
       "    <tr>\n",
       "      <th>2002-01-01</th>\n",
       "      <td>04:00:00</td>\n",
       "      <td>27899.0</td>\n",
       "      <td>2002</td>\n",
       "      <td>1</td>\n",
       "      <td>1</td>\n",
       "      <td>1</td>\n",
       "      <td>1</td>\n",
       "      <td>1</td>\n",
       "      <td>1</td>\n",
       "      <td>4</td>\n",
       "      <td>1</td>\n",
       "      <td>0</td>\n",
       "      <td>0</td>\n",
       "    </tr>\n",
       "    <tr>\n",
       "      <th>2002-01-01</th>\n",
       "      <td>05:00:00</td>\n",
       "      <td>28057.0</td>\n",
       "      <td>2002</td>\n",
       "      <td>1</td>\n",
       "      <td>1</td>\n",
       "      <td>1</td>\n",
       "      <td>1</td>\n",
       "      <td>1</td>\n",
       "      <td>1</td>\n",
       "      <td>5</td>\n",
       "      <td>1</td>\n",
       "      <td>0</td>\n",
       "      <td>0</td>\n",
       "    </tr>\n",
       "  </tbody>\n",
       "</table>\n",
       "</div>"
      ],
      "text/plain": [
       "                Time  PJME_MW  year  month  dayofmonth  quarter  dayofyear  \\\n",
       "Date                                                                         \n",
       "2002-01-01  01:00:00  30393.0  2002      1           1        1          1   \n",
       "2002-01-01  02:00:00  29265.0  2002      1           1        1          1   \n",
       "2002-01-01  03:00:00  28357.0  2002      1           1        1          1   \n",
       "2002-01-01  04:00:00  27899.0  2002      1           1        1          1   \n",
       "2002-01-01  05:00:00  28057.0  2002      1           1        1          1   \n",
       "\n",
       "            weekofyear  dayofweek  hour  is_holiday  is_prev_holiday  \\\n",
       "Date                                                                   \n",
       "2002-01-01           1          1     1           1                0   \n",
       "2002-01-01           1          1     2           1                0   \n",
       "2002-01-01           1          1     3           1                0   \n",
       "2002-01-01           1          1     4           1                0   \n",
       "2002-01-01           1          1     5           1                0   \n",
       "\n",
       "            is_next_holiday  \n",
       "Date                         \n",
       "2002-01-01                0  \n",
       "2002-01-01                0  \n",
       "2002-01-01                0  \n",
       "2002-01-01                0  \n",
       "2002-01-01                0  "
      ]
     },
     "execution_count": 2,
     "metadata": {},
     "output_type": "execute_result"
    }
   ],
   "source": [
    "energy = pd.read_csv('D:/root/GeekBrains/ds4_timeseries/Урок 2/my_PJME_MW.csv', index_col=[0], parse_dates=[0])\n",
    "energy.head()"
   ]
  },
  {
   "cell_type": "code",
   "execution_count": 3,
   "metadata": {},
   "outputs": [
    {
     "data": {
      "text/html": [
       "<div>\n",
       "<style scoped>\n",
       "    .dataframe tbody tr th:only-of-type {\n",
       "        vertical-align: middle;\n",
       "    }\n",
       "\n",
       "    .dataframe tbody tr th {\n",
       "        vertical-align: top;\n",
       "    }\n",
       "\n",
       "    .dataframe thead th {\n",
       "        text-align: right;\n",
       "    }\n",
       "</style>\n",
       "<table border=\"1\" class=\"dataframe\">\n",
       "  <thead>\n",
       "    <tr style=\"text-align: right;\">\n",
       "      <th></th>\n",
       "      <th>PJME_MW</th>\n",
       "      <th>year</th>\n",
       "      <th>month</th>\n",
       "      <th>dayofmonth</th>\n",
       "      <th>quarter</th>\n",
       "      <th>dayofyear</th>\n",
       "      <th>weekofyear</th>\n",
       "      <th>dayofweek</th>\n",
       "      <th>hour</th>\n",
       "      <th>is_holiday</th>\n",
       "      <th>is_prev_holiday</th>\n",
       "      <th>is_next_holiday</th>\n",
       "    </tr>\n",
       "  </thead>\n",
       "  <tbody>\n",
       "    <tr>\n",
       "      <th>count</th>\n",
       "      <td>200.000000</td>\n",
       "      <td>200.00000</td>\n",
       "      <td>200.000000</td>\n",
       "      <td>200.000000</td>\n",
       "      <td>200.000000</td>\n",
       "      <td>200.000000</td>\n",
       "      <td>200.000000</td>\n",
       "      <td>200.000000</td>\n",
       "      <td>200.000000</td>\n",
       "      <td>200.000000</td>\n",
       "      <td>200.000000</td>\n",
       "      <td>200.000000</td>\n",
       "    </tr>\n",
       "    <tr>\n",
       "      <th>mean</th>\n",
       "      <td>32108.628796</td>\n",
       "      <td>2009.84000</td>\n",
       "      <td>6.420000</td>\n",
       "      <td>15.645434</td>\n",
       "      <td>2.475000</td>\n",
       "      <td>179.905434</td>\n",
       "      <td>26.140008</td>\n",
       "      <td>2.996992</td>\n",
       "      <td>11.499990</td>\n",
       "      <td>0.027135</td>\n",
       "      <td>0.026964</td>\n",
       "      <td>0.027152</td>\n",
       "    </tr>\n",
       "    <tr>\n",
       "      <th>std</th>\n",
       "      <td>3534.668371</td>\n",
       "      <td>4.82606</td>\n",
       "      <td>3.444258</td>\n",
       "      <td>1.084200</td>\n",
       "      <td>1.116066</td>\n",
       "      <td>104.903962</td>\n",
       "      <td>14.634509</td>\n",
       "      <td>0.115045</td>\n",
       "      <td>0.017667</td>\n",
       "      <td>0.022668</td>\n",
       "      <td>0.022522</td>\n",
       "      <td>0.022681</td>\n",
       "    </tr>\n",
       "    <tr>\n",
       "      <th>min</th>\n",
       "      <td>26314.458333</td>\n",
       "      <td>2002.00000</td>\n",
       "      <td>1.000000</td>\n",
       "      <td>1.530612</td>\n",
       "      <td>1.000000</td>\n",
       "      <td>16.000000</td>\n",
       "      <td>2.741935</td>\n",
       "      <td>2.530612</td>\n",
       "      <td>11.265306</td>\n",
       "      <td>0.000000</td>\n",
       "      <td>0.000000</td>\n",
       "      <td>0.000000</td>\n",
       "    </tr>\n",
       "    <tr>\n",
       "      <th>25%</th>\n",
       "      <td>29193.559812</td>\n",
       "      <td>2006.00000</td>\n",
       "      <td>3.000000</td>\n",
       "      <td>15.500000</td>\n",
       "      <td>1.000000</td>\n",
       "      <td>76.008748</td>\n",
       "      <td>11.702145</td>\n",
       "      <td>2.903226</td>\n",
       "      <td>11.500000</td>\n",
       "      <td>0.000000</td>\n",
       "      <td>0.000000</td>\n",
       "      <td>0.000000</td>\n",
       "    </tr>\n",
       "    <tr>\n",
       "      <th>50%</th>\n",
       "      <td>31879.175067</td>\n",
       "      <td>2010.00000</td>\n",
       "      <td>6.000000</td>\n",
       "      <td>16.000000</td>\n",
       "      <td>2.000000</td>\n",
       "      <td>167.500000</td>\n",
       "      <td>24.666667</td>\n",
       "      <td>3.000000</td>\n",
       "      <td>11.500000</td>\n",
       "      <td>0.032258</td>\n",
       "      <td>0.032258</td>\n",
       "      <td>0.032258</td>\n",
       "    </tr>\n",
       "    <tr>\n",
       "      <th>75%</th>\n",
       "      <td>34574.729839</td>\n",
       "      <td>2014.00000</td>\n",
       "      <td>9.000000</td>\n",
       "      <td>16.000000</td>\n",
       "      <td>3.000000</td>\n",
       "      <td>259.500000</td>\n",
       "      <td>37.800000</td>\n",
       "      <td>3.095967</td>\n",
       "      <td>11.500000</td>\n",
       "      <td>0.033621</td>\n",
       "      <td>0.033333</td>\n",
       "      <td>0.033621</td>\n",
       "    </tr>\n",
       "    <tr>\n",
       "      <th>max</th>\n",
       "      <td>40603.403226</td>\n",
       "      <td>2018.00000</td>\n",
       "      <td>12.000000</td>\n",
       "      <td>16.020188</td>\n",
       "      <td>4.000000</td>\n",
       "      <td>351.000000</td>\n",
       "      <td>51.000000</td>\n",
       "      <td>3.193548</td>\n",
       "      <td>11.515478</td>\n",
       "      <td>0.066759</td>\n",
       "      <td>0.066759</td>\n",
       "      <td>0.066759</td>\n",
       "    </tr>\n",
       "  </tbody>\n",
       "</table>\n",
       "</div>"
      ],
      "text/plain": [
       "            PJME_MW        year       month  dayofmonth     quarter  \\\n",
       "count    200.000000   200.00000  200.000000  200.000000  200.000000   \n",
       "mean   32108.628796  2009.84000    6.420000   15.645434    2.475000   \n",
       "std     3534.668371     4.82606    3.444258    1.084200    1.116066   \n",
       "min    26314.458333  2002.00000    1.000000    1.530612    1.000000   \n",
       "25%    29193.559812  2006.00000    3.000000   15.500000    1.000000   \n",
       "50%    31879.175067  2010.00000    6.000000   16.000000    2.000000   \n",
       "75%    34574.729839  2014.00000    9.000000   16.000000    3.000000   \n",
       "max    40603.403226  2018.00000   12.000000   16.020188    4.000000   \n",
       "\n",
       "        dayofyear  weekofyear   dayofweek        hour  is_holiday  \\\n",
       "count  200.000000  200.000000  200.000000  200.000000  200.000000   \n",
       "mean   179.905434   26.140008    2.996992   11.499990    0.027135   \n",
       "std    104.903962   14.634509    0.115045    0.017667    0.022668   \n",
       "min     16.000000    2.741935    2.530612   11.265306    0.000000   \n",
       "25%     76.008748   11.702145    2.903226   11.500000    0.000000   \n",
       "50%    167.500000   24.666667    3.000000   11.500000    0.032258   \n",
       "75%    259.500000   37.800000    3.095967   11.500000    0.033621   \n",
       "max    351.000000   51.000000    3.193548   11.515478    0.066759   \n",
       "\n",
       "       is_prev_holiday  is_next_holiday  \n",
       "count       200.000000       200.000000  \n",
       "mean          0.026964         0.027152  \n",
       "std           0.022522         0.022681  \n",
       "min           0.000000         0.000000  \n",
       "25%           0.000000         0.000000  \n",
       "50%           0.032258         0.032258  \n",
       "75%           0.033333         0.033621  \n",
       "max           0.066759         0.066759  "
      ]
     },
     "execution_count": 3,
     "metadata": {},
     "output_type": "execute_result"
    }
   ],
   "source": [
    "en_month = energy.resample(\"M\").mean()\n",
    "en_month.describe()"
   ]
  },
  {
   "cell_type": "markdown",
   "metadata": {},
   "source": [
    "#### 2. Подберите параметры модели SARIMAX для этого ряда."
   ]
  },
  {
   "cell_type": "markdown",
   "metadata": {},
   "source": [
    "Сделаем используя сеточный поиск, как в уроке:"
   ]
  },
  {
   "cell_type": "code",
   "execution_count": 4,
   "metadata": {},
   "outputs": [
    {
     "name": "stdout",
     "output_type": "stream",
     "text": [
      "ok\n"
     ]
    }
   ],
   "source": [
    "# Определим p, d и q в диапазоне 0-3\n",
    "p = d = q = range(0, 3)\n",
    "# зададим сетку p, q и q\n",
    "pdq = list(itertools.product(p, d, q))\n",
    "# зададим сезонность p, q и q\n",
    "\n",
    "p = [0] \n",
    "d = [0,1]\n",
    "q = range(0, 3)\n",
    "#Исследуем период в 3 месяца. Так как у нас данные откалиброваны по месяцам, то 26 недель заменим на 3 месяца.\n",
    "seasonal_pdq = [(x[0], x[1], x[2], 3) for x in list(itertools.product(p, d, q))]\n",
    "print('ok')"
   ]
  },
  {
   "cell_type": "code",
   "execution_count": 5,
   "metadata": {},
   "outputs": [
    {
     "name": "stdout",
     "output_type": "stream",
     "text": [
      "SARIMA(0, 0, 0)x(0, 0, 0, 3) - AIC: 2.0\n",
      "SARIMA(0, 0, 0)x(0, 0, 1, 3) - AIC: 4.0\n",
      "SARIMA(0, 0, 0)x(0, 0, 2, 3) - AIC: 6.0\n",
      "SARIMA(0, 0, 0)x(0, 1, 0, 3) - AIC: 2.0\n",
      "SARIMA(0, 0, 0)x(0, 1, 1, 3) - AIC: 4.0\n",
      "SARIMA(0, 0, 0)x(0, 1, 2, 3) - AIC: 6.0\n",
      "SARIMA(0, 0, 1)x(0, 0, 0, 3) - AIC: 4.0\n",
      "SARIMA(0, 0, 1)x(0, 0, 1, 3) - AIC: 6.0\n",
      "SARIMA(0, 0, 1)x(0, 0, 2, 3) - AIC: 8.0\n",
      "SARIMA(0, 0, 1)x(0, 1, 0, 3) - AIC: 4.0\n",
      "SARIMA(0, 0, 1)x(0, 1, 1, 3) - AIC: 6.0\n",
      "SARIMA(0, 0, 1)x(0, 1, 2, 3) - AIC: 8.0\n",
      "SARIMA(0, 0, 2)x(0, 0, 0, 3) - AIC: 6.0\n",
      "SARIMA(0, 0, 2)x(0, 0, 1, 3) - AIC: 8.0\n",
      "SARIMA(0, 0, 2)x(0, 0, 2, 3) - AIC: 10.0\n",
      "SARIMA(0, 0, 2)x(0, 1, 0, 3) - AIC: 6.0\n",
      "SARIMA(0, 0, 2)x(0, 1, 1, 3) - AIC: 8.0\n",
      "SARIMA(0, 0, 2)x(0, 1, 2, 3) - AIC: 10.0\n",
      "SARIMA(0, 1, 0)x(0, 0, 0, 3) - AIC: 2.0\n",
      "SARIMA(0, 1, 0)x(0, 0, 1, 3) - AIC: 4.0\n",
      "SARIMA(0, 1, 0)x(0, 0, 2, 3) - AIC: 6.0\n",
      "SARIMA(0, 1, 0)x(0, 1, 0, 3) - AIC: 2.0\n",
      "SARIMA(0, 1, 0)x(0, 1, 1, 3) - AIC: 4.0\n",
      "SARIMA(0, 1, 0)x(0, 1, 2, 3) - AIC: 6.0\n",
      "SARIMA(0, 1, 1)x(0, 0, 0, 3) - AIC: 4.0\n",
      "SARIMA(0, 1, 1)x(0, 0, 1, 3) - AIC: 6.0\n",
      "SARIMA(0, 1, 1)x(0, 0, 2, 3) - AIC: 8.0\n",
      "SARIMA(0, 1, 1)x(0, 1, 0, 3) - AIC: 4.0\n",
      "SARIMA(0, 1, 1)x(0, 1, 1, 3) - AIC: 6.0\n",
      "SARIMA(0, 1, 1)x(0, 1, 2, 3) - AIC: 8.0\n",
      "SARIMA(0, 1, 2)x(0, 0, 0, 3) - AIC: 6.0\n",
      "SARIMA(0, 1, 2)x(0, 0, 1, 3) - AIC: 8.0\n",
      "SARIMA(0, 1, 2)x(0, 0, 2, 3) - AIC: 10.0\n",
      "SARIMA(0, 1, 2)x(0, 1, 0, 3) - AIC: 6.0\n",
      "SARIMA(0, 1, 2)x(0, 1, 1, 3) - AIC: 8.0\n",
      "SARIMA(0, 1, 2)x(0, 1, 2, 3) - AIC: 10.0\n",
      "SARIMA(0, 2, 0)x(0, 0, 0, 3) - AIC: 2.0\n",
      "SARIMA(0, 2, 0)x(0, 0, 1, 3) - AIC: 4.0\n",
      "SARIMA(0, 2, 0)x(0, 0, 2, 3) - AIC: 6.0\n",
      "SARIMA(0, 2, 0)x(0, 1, 0, 3) - AIC: 2.0\n",
      "SARIMA(0, 2, 0)x(0, 1, 1, 3) - AIC: 4.0\n",
      "SARIMA(0, 2, 0)x(0, 1, 2, 3) - AIC: 6.0\n",
      "SARIMA(0, 2, 1)x(0, 0, 0, 3) - AIC: 4.0\n",
      "SARIMA(0, 2, 1)x(0, 0, 1, 3) - AIC: 6.0\n",
      "SARIMA(0, 2, 1)x(0, 0, 2, 3) - AIC: 8.0\n",
      "SARIMA(0, 2, 1)x(0, 1, 0, 3) - AIC: 4.0\n",
      "SARIMA(0, 2, 1)x(0, 1, 1, 3) - AIC: 6.0\n",
      "SARIMA(0, 2, 1)x(0, 1, 2, 3) - AIC: 8.0\n",
      "SARIMA(0, 2, 2)x(0, 0, 0, 3) - AIC: 6.0\n",
      "SARIMA(0, 2, 2)x(0, 0, 1, 3) - AIC: 8.0\n",
      "SARIMA(0, 2, 2)x(0, 0, 2, 3) - AIC: 10.0\n",
      "SARIMA(0, 2, 2)x(0, 1, 0, 3) - AIC: 6.0\n",
      "SARIMA(0, 2, 2)x(0, 1, 1, 3) - AIC: 8.0\n",
      "SARIMA(0, 2, 2)x(0, 1, 2, 3) - AIC: 10.0\n",
      "SARIMA(1, 0, 0)x(0, 0, 0, 3) - AIC: 4.0\n",
      "SARIMA(1, 0, 0)x(0, 0, 1, 3) - AIC: 6.0\n",
      "SARIMA(1, 0, 0)x(0, 0, 2, 3) - AIC: 8.0\n",
      "SARIMA(1, 0, 0)x(0, 1, 0, 3) - AIC: 4.0\n",
      "SARIMA(1, 0, 0)x(0, 1, 1, 3) - AIC: 6.0\n",
      "SARIMA(1, 0, 0)x(0, 1, 2, 3) - AIC: 8.0\n",
      "SARIMA(1, 0, 1)x(0, 0, 0, 3) - AIC: 6.0\n",
      "SARIMA(1, 0, 1)x(0, 0, 1, 3) - AIC: 8.0\n",
      "SARIMA(1, 0, 1)x(0, 0, 2, 3) - AIC: 10.0\n",
      "SARIMA(1, 0, 1)x(0, 1, 0, 3) - AIC: 6.0\n",
      "SARIMA(1, 0, 1)x(0, 1, 1, 3) - AIC: 8.0\n",
      "SARIMA(1, 0, 1)x(0, 1, 2, 3) - AIC: 10.0\n",
      "SARIMA(1, 0, 2)x(0, 0, 0, 3) - AIC: 8.0\n",
      "SARIMA(1, 0, 2)x(0, 0, 1, 3) - AIC: 10.0\n",
      "SARIMA(1, 0, 2)x(0, 0, 2, 3) - AIC: 12.0\n",
      "SARIMA(1, 0, 2)x(0, 1, 0, 3) - AIC: 8.0\n",
      "SARIMA(1, 0, 2)x(0, 1, 1, 3) - AIC: 10.0\n",
      "SARIMA(1, 0, 2)x(0, 1, 2, 3) - AIC: 12.0\n",
      "SARIMA(1, 1, 0)x(0, 0, 0, 3) - AIC: 4.0\n",
      "SARIMA(1, 1, 0)x(0, 0, 1, 3) - AIC: 6.0\n",
      "SARIMA(1, 1, 0)x(0, 0, 2, 3) - AIC: 8.0\n",
      "SARIMA(1, 1, 0)x(0, 1, 0, 3) - AIC: 4.0\n",
      "SARIMA(1, 1, 0)x(0, 1, 1, 3) - AIC: 6.0\n",
      "SARIMA(1, 1, 0)x(0, 1, 2, 3) - AIC: 8.0\n",
      "SARIMA(1, 1, 1)x(0, 0, 0, 3) - AIC: 6.0\n",
      "SARIMA(1, 1, 1)x(0, 0, 1, 3) - AIC: 8.0\n",
      "SARIMA(1, 1, 1)x(0, 0, 2, 3) - AIC: 10.0\n",
      "SARIMA(1, 1, 1)x(0, 1, 0, 3) - AIC: 6.0\n",
      "SARIMA(1, 1, 1)x(0, 1, 1, 3) - AIC: 8.0\n",
      "SARIMA(1, 1, 1)x(0, 1, 2, 3) - AIC: 10.0\n",
      "SARIMA(1, 1, 2)x(0, 0, 0, 3) - AIC: 8.0\n",
      "SARIMA(1, 1, 2)x(0, 0, 1, 3) - AIC: 10.0\n",
      "SARIMA(1, 1, 2)x(0, 0, 2, 3) - AIC: 12.0\n",
      "SARIMA(1, 1, 2)x(0, 1, 0, 3) - AIC: 8.0\n",
      "SARIMA(1, 1, 2)x(0, 1, 1, 3) - AIC: 10.0\n",
      "SARIMA(1, 1, 2)x(0, 1, 2, 3) - AIC: 12.0\n",
      "SARIMA(1, 2, 0)x(0, 0, 0, 3) - AIC: 4.0\n",
      "SARIMA(1, 2, 0)x(0, 0, 1, 3) - AIC: 6.0\n",
      "SARIMA(1, 2, 0)x(0, 0, 2, 3) - AIC: 8.0\n",
      "SARIMA(1, 2, 0)x(0, 1, 0, 3) - AIC: 4.0\n",
      "SARIMA(1, 2, 0)x(0, 1, 1, 3) - AIC: 6.0\n",
      "SARIMA(1, 2, 0)x(0, 1, 2, 3) - AIC: 8.0\n",
      "SARIMA(1, 2, 1)x(0, 0, 0, 3) - AIC: 6.0\n",
      "SARIMA(1, 2, 1)x(0, 0, 1, 3) - AIC: 8.0\n",
      "SARIMA(1, 2, 1)x(0, 0, 2, 3) - AIC: 10.0\n",
      "SARIMA(1, 2, 1)x(0, 1, 0, 3) - AIC: 6.0\n",
      "SARIMA(1, 2, 1)x(0, 1, 1, 3) - AIC: 8.0\n",
      "SARIMA(1, 2, 1)x(0, 1, 2, 3) - AIC: 10.0\n",
      "SARIMA(1, 2, 2)x(0, 0, 0, 3) - AIC: 8.0\n",
      "SARIMA(1, 2, 2)x(0, 0, 1, 3) - AIC: 10.0\n",
      "SARIMA(1, 2, 2)x(0, 0, 2, 3) - AIC: 12.0\n",
      "SARIMA(1, 2, 2)x(0, 1, 0, 3) - AIC: 8.0\n",
      "SARIMA(1, 2, 2)x(0, 1, 1, 3) - AIC: 10.0\n",
      "SARIMA(1, 2, 2)x(0, 1, 2, 3) - AIC: 12.0\n",
      "SARIMA(2, 0, 0)x(0, 0, 0, 3) - AIC: 6.0\n",
      "SARIMA(2, 0, 0)x(0, 0, 1, 3) - AIC: 8.0\n",
      "SARIMA(2, 0, 0)x(0, 0, 2, 3) - AIC: 10.0\n",
      "SARIMA(2, 0, 0)x(0, 1, 0, 3) - AIC: 6.0\n",
      "SARIMA(2, 0, 0)x(0, 1, 1, 3) - AIC: 8.0\n",
      "SARIMA(2, 0, 0)x(0, 1, 2, 3) - AIC: 10.0\n",
      "SARIMA(2, 0, 1)x(0, 0, 0, 3) - AIC: 8.0\n",
      "SARIMA(2, 0, 1)x(0, 0, 1, 3) - AIC: 10.0\n",
      "SARIMA(2, 0, 1)x(0, 0, 2, 3) - AIC: 12.0\n",
      "SARIMA(2, 0, 1)x(0, 1, 0, 3) - AIC: 8.0\n",
      "SARIMA(2, 0, 1)x(0, 1, 1, 3) - AIC: 10.0\n",
      "SARIMA(2, 0, 1)x(0, 1, 2, 3) - AIC: 12.0\n",
      "SARIMA(2, 0, 2)x(0, 0, 0, 3) - AIC: 10.0\n",
      "SARIMA(2, 0, 2)x(0, 0, 1, 3) - AIC: 12.0\n",
      "SARIMA(2, 0, 2)x(0, 0, 2, 3) - AIC: 14.0\n",
      "SARIMA(2, 0, 2)x(0, 1, 0, 3) - AIC: 10.0\n",
      "SARIMA(2, 0, 2)x(0, 1, 1, 3) - AIC: 12.0\n",
      "SARIMA(2, 0, 2)x(0, 1, 2, 3) - AIC: 14.0\n",
      "SARIMA(2, 1, 0)x(0, 0, 0, 3) - AIC: 6.0\n",
      "SARIMA(2, 1, 0)x(0, 0, 1, 3) - AIC: 8.0\n",
      "SARIMA(2, 1, 0)x(0, 0, 2, 3) - AIC: 10.0\n",
      "SARIMA(2, 1, 0)x(0, 1, 0, 3) - AIC: 6.0\n",
      "SARIMA(2, 1, 0)x(0, 1, 1, 3) - AIC: 8.0\n",
      "SARIMA(2, 1, 0)x(0, 1, 2, 3) - AIC: 10.0\n",
      "SARIMA(2, 1, 1)x(0, 0, 0, 3) - AIC: 8.0\n",
      "SARIMA(2, 1, 1)x(0, 0, 1, 3) - AIC: 10.0\n",
      "SARIMA(2, 1, 1)x(0, 0, 2, 3) - AIC: 12.0\n",
      "SARIMA(2, 1, 1)x(0, 1, 0, 3) - AIC: 8.0\n",
      "SARIMA(2, 1, 1)x(0, 1, 1, 3) - AIC: 10.0\n",
      "SARIMA(2, 1, 1)x(0, 1, 2, 3) - AIC: 12.0\n",
      "SARIMA(2, 1, 2)x(0, 0, 0, 3) - AIC: 10.0\n",
      "SARIMA(2, 1, 2)x(0, 0, 1, 3) - AIC: 12.0\n",
      "SARIMA(2, 1, 2)x(0, 0, 2, 3) - AIC: 14.0\n",
      "SARIMA(2, 1, 2)x(0, 1, 0, 3) - AIC: 10.0\n",
      "SARIMA(2, 1, 2)x(0, 1, 1, 3) - AIC: 12.0\n",
      "SARIMA(2, 1, 2)x(0, 1, 2, 3) - AIC: 14.0\n",
      "SARIMA(2, 2, 0)x(0, 0, 0, 3) - AIC: 6.0\n",
      "SARIMA(2, 2, 0)x(0, 0, 1, 3) - AIC: 8.0\n",
      "SARIMA(2, 2, 0)x(0, 0, 2, 3) - AIC: 10.0\n",
      "SARIMA(2, 2, 0)x(0, 1, 0, 3) - AIC: 6.0\n",
      "SARIMA(2, 2, 0)x(0, 1, 1, 3) - AIC: 8.0\n",
      "SARIMA(2, 2, 0)x(0, 1, 2, 3) - AIC: 10.0\n",
      "SARIMA(2, 2, 1)x(0, 0, 0, 3) - AIC: 8.0\n",
      "SARIMA(2, 2, 1)x(0, 0, 1, 3) - AIC: 10.0\n",
      "SARIMA(2, 2, 1)x(0, 0, 2, 3) - AIC: 12.0\n",
      "SARIMA(2, 2, 1)x(0, 1, 0, 3) - AIC: 8.0\n",
      "SARIMA(2, 2, 1)x(0, 1, 1, 3) - AIC: 10.0\n",
      "SARIMA(2, 2, 1)x(0, 1, 2, 3) - AIC: 12.0\n",
      "SARIMA(2, 2, 2)x(0, 0, 0, 3) - AIC: 10.0\n",
      "SARIMA(2, 2, 2)x(0, 0, 1, 3) - AIC: 12.0\n",
      "SARIMA(2, 2, 2)x(0, 0, 2, 3) - AIC: 14.0\n",
      "SARIMA(2, 2, 2)x(0, 1, 0, 3) - AIC: 10.0\n",
      "SARIMA(2, 2, 2)x(0, 1, 1, 3) - AIC: 12.0\n",
      "SARIMA(2, 2, 2)x(0, 1, 2, 3) - AIC: 14.0\n"
     ]
    }
   ],
   "source": [
    "warnings.filterwarnings(\"ignore\") # отключает предупреждения\n",
    "p1 = list()\n",
    "ps = list()\n",
    "aic = list()\n",
    "for param in pdq:\n",
    "    for param_seasonal in seasonal_pdq:\n",
    "        try:\n",
    "            mod = sm.tsa.statespace.SARIMAX(en_month['PJME_MW'].values[:-0],order=param, #оставим 20 последних месяцев в качестве тестового набора\n",
    "                                    seasonal_order=param_seasonal ,\n",
    "                                    enforce_stationarity=False,\n",
    "                                    enforce_invertibility=False)\n",
    "            \n",
    "            results = mod.fit()\n",
    "            #info.update({'param': param, 'param_seasonal':param_seasonal,'AIC':results.aic})\n",
    "            #info.append(param + param_seasonal + results.aic)\n",
    "            p1.append(param)\n",
    "            ps.append(param_seasonal)\n",
    "            aic.append(results.aic)\n",
    "            print('SARIMA{}x{} - AIC: {}'.format(param, param_seasonal, results.aic))\n",
    "        except:\n",
    "            continue"
   ]
  },
  {
   "cell_type": "code",
   "execution_count": 6,
   "metadata": {},
   "outputs": [
    {
     "data": {
      "text/html": [
       "<div>\n",
       "<style scoped>\n",
       "    .dataframe tbody tr th:only-of-type {\n",
       "        vertical-align: middle;\n",
       "    }\n",
       "\n",
       "    .dataframe tbody tr th {\n",
       "        vertical-align: top;\n",
       "    }\n",
       "\n",
       "    .dataframe thead th {\n",
       "        text-align: right;\n",
       "    }\n",
       "</style>\n",
       "<table border=\"1\" class=\"dataframe\">\n",
       "  <thead>\n",
       "    <tr style=\"text-align: right;\">\n",
       "      <th></th>\n",
       "      <th>Parameters</th>\n",
       "      <th>Seasonal Parameters</th>\n",
       "      <th>AIC</th>\n",
       "    </tr>\n",
       "  </thead>\n",
       "  <tbody>\n",
       "    <tr>\n",
       "      <th>0</th>\n",
       "      <td>(0, 0, 0)</td>\n",
       "      <td>(0, 0, 0, 3)</td>\n",
       "      <td>2.0</td>\n",
       "    </tr>\n",
       "    <tr>\n",
       "      <th>1</th>\n",
       "      <td>(0, 0, 0)</td>\n",
       "      <td>(0, 0, 1, 3)</td>\n",
       "      <td>4.0</td>\n",
       "    </tr>\n",
       "    <tr>\n",
       "      <th>2</th>\n",
       "      <td>(0, 0, 0)</td>\n",
       "      <td>(0, 0, 2, 3)</td>\n",
       "      <td>6.0</td>\n",
       "    </tr>\n",
       "    <tr>\n",
       "      <th>3</th>\n",
       "      <td>(0, 0, 0)</td>\n",
       "      <td>(0, 1, 0, 3)</td>\n",
       "      <td>2.0</td>\n",
       "    </tr>\n",
       "    <tr>\n",
       "      <th>4</th>\n",
       "      <td>(0, 0, 0)</td>\n",
       "      <td>(0, 1, 1, 3)</td>\n",
       "      <td>4.0</td>\n",
       "    </tr>\n",
       "  </tbody>\n",
       "</table>\n",
       "</div>"
      ],
      "text/plain": [
       "  Parameters Seasonal Parameters  AIC\n",
       "0  (0, 0, 0)        (0, 0, 0, 3)  2.0\n",
       "1  (0, 0, 0)        (0, 0, 1, 3)  4.0\n",
       "2  (0, 0, 0)        (0, 0, 2, 3)  6.0\n",
       "3  (0, 0, 0)        (0, 1, 0, 3)  2.0\n",
       "4  (0, 0, 0)        (0, 1, 1, 3)  4.0"
      ]
     },
     "execution_count": 6,
     "metadata": {},
     "output_type": "execute_result"
    }
   ],
   "source": [
    "data = {'Parameters': p1, 'Seasonal Parameters': ps, 'AIC': aic}\n",
    "info = pd.DataFrame(data)\n",
    "info.head()"
   ]
  },
  {
   "cell_type": "markdown",
   "metadata": {},
   "source": [
    "Найдем параметры с наименьшим AIC:"
   ]
  },
  {
   "cell_type": "code",
   "execution_count": 7,
   "metadata": {},
   "outputs": [
    {
     "name": "stdout",
     "output_type": "stream",
     "text": [
      "Parameters                (0, 0, 0)\n",
      "Seasonal Parameters    (0, 0, 0, 3)\n",
      "AIC                               2\n",
      "Name: 0, dtype: object\n",
      "Parameters                (0, 0, 0)\n",
      "Seasonal Parameters    (0, 1, 0, 3)\n",
      "AIC                               2\n",
      "Name: 3, dtype: object\n",
      "Parameters                (0, 1, 0)\n",
      "Seasonal Parameters    (0, 0, 0, 3)\n",
      "AIC                               2\n",
      "Name: 18, dtype: object\n",
      "Parameters                (0, 1, 0)\n",
      "Seasonal Parameters    (0, 1, 0, 3)\n",
      "AIC                               2\n",
      "Name: 21, dtype: object\n",
      "Parameters                (0, 2, 0)\n",
      "Seasonal Parameters    (0, 0, 0, 3)\n",
      "AIC                               2\n",
      "Name: 36, dtype: object\n",
      "Parameters                (0, 2, 0)\n",
      "Seasonal Parameters    (0, 1, 0, 3)\n",
      "AIC                               2\n",
      "Name: 39, dtype: object\n"
     ]
    }
   ],
   "source": [
    "m = info.min()\n",
    "for i in range(len(info)):\n",
    "    if info.loc[i, 'AIC'] == m[2]:\n",
    "        print(info.iloc[i])"
   ]
  },
  {
   "cell_type": "markdown",
   "metadata": {},
   "source": [
    "Видим, что модель имеет минимальную оценку для параметров [2, 1, 2], [0, 0, 2, 3]"
   ]
  },
  {
   "cell_type": "code",
   "execution_count": 8,
   "metadata": {},
   "outputs": [
    {
     "name": "stdout",
     "output_type": "stream",
     "text": [
      "AIC:2512.1007073224946\n",
      "                                     SARIMAX Results                                     \n",
      "=========================================================================================\n",
      "Dep. Variable:                                 y   No. Observations:                  150\n",
      "Model:             SARIMAX(2, 1, 2)x(0, 0, 2, 3)   Log Likelihood               -1247.050\n",
      "Date:                           Wed, 20 May 2020   AIC                           2512.101\n",
      "Time:                                   17:57:53   BIC                           2538.575\n",
      "Sample:                                        0   HQIC                          2522.859\n",
      "                                           - 150                                         \n",
      "Covariance Type:                             opg                                         \n",
      "========================================================================================= ==============================================================================\n",
      "                 coef    std err          z      P>|z|      [0.025      0.975]\n",
      "------------------------------------------------------------------------------\n",
      "intercept      3.3837    360.761      0.009      0.993    -703.695     710.462\n",
      "drift         -0.2092      4.105     -0.051      0.959      -8.255       7.836\n",
      "ar.L1          0.9975      0.005    215.890      0.000       0.988       1.007\n",
      "ar.L2         -1.0028      0.005   -197.543      0.000      -1.013      -0.993\n",
      "ma.L1         -1.0314      0.065    -15.921      0.000      -1.158      -0.904\n",
      "ma.L2          0.9758      0.087     11.155      0.000       0.804       1.147\n",
      "ma.S.L3       -0.0381      0.129     -0.296      0.767      -0.290       0.214\n",
      "ma.S.L6       -0.1144      0.121     -0.945      0.345      -0.352       0.123\n",
      "sigma2      3.888e+06      0.007    5.6e+08      0.000    3.89e+06    3.89e+06\n",
      "==============================================================================\n"
     ]
    }
   ],
   "source": [
    "model = sm.tsa.statespace.SARIMAX(en_month['PJME_MW'].values[:-50],\n",
    "                               order = [2, 1, 2], seasonal_order=[0, 0, 2, 3], trend='ct',\n",
    "                               enforce_stationarity=False,\n",
    "                               enforce_invertibility=False)\n",
    "result1 = model.fit()\n",
    "print('AIC:{}'.format(result1.aic))\n",
    "\n",
    "print(result1.summary().tables[0],result1.summary().tables[1])"
   ]
  },
  {
   "cell_type": "markdown",
   "metadata": {},
   "source": [
    "Видна сильная разница в значениях оценок AIC, BIQ, HQIC, Log Likelihood. Коэффициенты ma.L1 и ma.L2 увеличились, ma.S.L3 уменьшился относительно модели для недельных данных. Посмотрим на автокорреляцию остатков:"
   ]
  },
  {
   "cell_type": "code",
   "execution_count": 9,
   "metadata": {},
   "outputs": [
    {
     "data": {
      "image/png": "[encoded data removed]",
      "text/plain": [
       "<Figure size 432x288 with 1 Axes>"
      ]
     },
     "metadata": {
      "needs_background": "light"
     },
     "output_type": "display_data"
    }
   ],
   "source": [
    "sm.graphics.tsa.plot_acf(result1.resid, lags=12)\n",
    "plt.show()"
   ]
  },
  {
   "cell_type": "markdown",
   "metadata": {},
   "source": [
    "Как показывает график, автокорреляция незначительна и имеет характер белого шума. В целом, выглядит получше, чем для недельной модели."
   ]
  },
  {
   "cell_type": "markdown",
   "metadata": {},
   "source": [
    "Посмотрим, как распределяются остатки модели."
   ]
  },
  {
   "cell_type": "code",
   "execution_count": 10,
   "metadata": {},
   "outputs": [
    {
     "data": {
      "image/png": "[encoded data removed]",
      "text/plain": [
       "<Figure size 1080x864 with 4 Axes>"
      ]
     },
     "metadata": {
      "needs_background": "light"
     },
     "output_type": "display_data"
    }
   ],
   "source": [
    "result1.plot_diagnostics(figsize=(15, 12))\n",
    "plt.show()"
   ]
  },
  {
   "cell_type": "markdown",
   "metadata": {},
   "source": [
    "На верхнем левом графике отсутствует сезонность. \n",
    "\n",
    "На гистограмме видим, что распредление месячной модели потребления энергии близко к нормальному (на вид, намного лучше, чем недельное). Это значит, что остатки ряда распределены нормально.\n",
    "\n",
    "График q-q показывает, что упорядоченное распределение остатков следует линейному тренду выборок, взятых из стандартного распределения N (0, 1), однако, в сравнении с таким же графиком для недельной модели, видно небольшое улучшение с сохранением той же кривизны. \n",
    "\n",
    "Кореллограмма показывает, что автокорреляция данных низкая. Однако, в районе 1-ой точки (3 месяца) и 5-ой точки (15 месяц) мы видим выбросы из общей картины, это не очень хорошо. \n",
    "\n",
    "В целом, можем сделать вывод, что данная модель более пригодна для предсказания, чем модель для недельных данных."
   ]
  },
  {
   "cell_type": "code",
   "execution_count": 11,
   "metadata": {},
   "outputs": [
    {
     "data": {
      "image/png": "[encoded data removed]",
      "text/plain": [
       "<Figure size 432x288 with 1 Axes>"
      ]
     },
     "metadata": {
      "needs_background": "light"
     },
     "output_type": "display_data"
    }
   ],
   "source": [
    "pred_dynamic = result1.forecast(50)    #делаем предсказание на 50 точек от текущего конца ряда\n",
    "\n",
    "plt.plot(pred_dynamic, label='predict' )\n",
    "#Отобразим истинный значения \n",
    "plt.plot(en_month['PJME_MW'].values[-50:],'or',label='true') #50 точек, оставленных на предсказание\n",
    "plt.title('Предсказание последних точек ряда  и следующих 50 точек ряда')\n",
    "plt.legend()\n",
    "plt.plot()\n",
    "plt.show()"
   ]
  },
  {
   "cell_type": "markdown",
   "metadata": {},
   "source": [
    "На графике выше видим предсказанные значения потребления энергии для тестовых данных (красные точки).Выглядит модель странно... Если бы не ряды, я бы посчитала ее переобученной. Здесь - не знаю."
   ]
  },
  {
   "cell_type": "markdown",
   "metadata": {},
   "source": [
    "#### 3. Сделайте вывод о том, как изменилась модель по сравнению с недельной."
   ]
  },
  {
   "cell_type": "markdown",
   "metadata": {},
   "source": [
    "Сравнение выше, во время построения месячной модели.\n",
    "\n",
    "В целом, обобщение и усреднение данных от недельных до месячных положительно сказалось на модели (если верить значениям оценок). Также распределение стало ближе к нормальному, что несомненно является плюсом."
   ]
  },
  {
   "cell_type": "markdown",
   "metadata": {},
   "source": [
    "#### 4. Постройте ACF, PACF и модель ARIMA для СOVID_19 (по любой стране кроме Китая на дневных графиках )"
   ]
  },
  {
   "cell_type": "code",
   "execution_count": 97,
   "metadata": {},
   "outputs": [
    {
     "data": {
      "text/html": [
       "<div>\n",
       "<style scoped>\n",
       "    .dataframe tbody tr th:only-of-type {\n",
       "        vertical-align: middle;\n",
       "    }\n",
       "\n",
       "    .dataframe tbody tr th {\n",
       "        vertical-align: top;\n",
       "    }\n",
       "\n",
       "    .dataframe thead th {\n",
       "        text-align: right;\n",
       "    }\n",
       "</style>\n",
       "<table border=\"1\" class=\"dataframe\">\n",
       "  <thead>\n",
       "    <tr style=\"text-align: right;\">\n",
       "      <th></th>\n",
       "      <th>ObservationDate</th>\n",
       "      <th>Province/State</th>\n",
       "      <th>Country/Region</th>\n",
       "      <th>Last Update</th>\n",
       "      <th>Confirmed</th>\n",
       "      <th>Deaths</th>\n",
       "      <th>Recovered</th>\n",
       "    </tr>\n",
       "    <tr>\n",
       "      <th>SNo</th>\n",
       "      <th></th>\n",
       "      <th></th>\n",
       "      <th></th>\n",
       "      <th></th>\n",
       "      <th></th>\n",
       "      <th></th>\n",
       "      <th></th>\n",
       "    </tr>\n",
       "  </thead>\n",
       "  <tbody>\n",
       "    <tr>\n",
       "      <th>1</th>\n",
       "      <td>01/22/2020</td>\n",
       "      <td>Anhui</td>\n",
       "      <td>Mainland China</td>\n",
       "      <td>1/22/2020 17:00</td>\n",
       "      <td>1.0</td>\n",
       "      <td>0.0</td>\n",
       "      <td>0.0</td>\n",
       "    </tr>\n",
       "    <tr>\n",
       "      <th>2</th>\n",
       "      <td>01/22/2020</td>\n",
       "      <td>Beijing</td>\n",
       "      <td>Mainland China</td>\n",
       "      <td>1/22/2020 17:00</td>\n",
       "      <td>14.0</td>\n",
       "      <td>0.0</td>\n",
       "      <td>0.0</td>\n",
       "    </tr>\n",
       "    <tr>\n",
       "      <th>3</th>\n",
       "      <td>01/22/2020</td>\n",
       "      <td>Chongqing</td>\n",
       "      <td>Mainland China</td>\n",
       "      <td>1/22/2020 17:00</td>\n",
       "      <td>6.0</td>\n",
       "      <td>0.0</td>\n",
       "      <td>0.0</td>\n",
       "    </tr>\n",
       "    <tr>\n",
       "      <th>4</th>\n",
       "      <td>01/22/2020</td>\n",
       "      <td>Fujian</td>\n",
       "      <td>Mainland China</td>\n",
       "      <td>1/22/2020 17:00</td>\n",
       "      <td>1.0</td>\n",
       "      <td>0.0</td>\n",
       "      <td>0.0</td>\n",
       "    </tr>\n",
       "    <tr>\n",
       "      <th>5</th>\n",
       "      <td>01/22/2020</td>\n",
       "      <td>Gansu</td>\n",
       "      <td>Mainland China</td>\n",
       "      <td>1/22/2020 17:00</td>\n",
       "      <td>0.0</td>\n",
       "      <td>0.0</td>\n",
       "      <td>0.0</td>\n",
       "    </tr>\n",
       "  </tbody>\n",
       "</table>\n",
       "</div>"
      ],
      "text/plain": [
       "    ObservationDate Province/State  Country/Region      Last Update  \\\n",
       "SNo                                                                   \n",
       "1        01/22/2020          Anhui  Mainland China  1/22/2020 17:00   \n",
       "2        01/22/2020        Beijing  Mainland China  1/22/2020 17:00   \n",
       "3        01/22/2020      Chongqing  Mainland China  1/22/2020 17:00   \n",
       "4        01/22/2020         Fujian  Mainland China  1/22/2020 17:00   \n",
       "5        01/22/2020          Gansu  Mainland China  1/22/2020 17:00   \n",
       "\n",
       "     Confirmed  Deaths  Recovered  \n",
       "SNo                                \n",
       "1          1.0     0.0        0.0  \n",
       "2         14.0     0.0        0.0  \n",
       "3          6.0     0.0        0.0  \n",
       "4          1.0     0.0        0.0  \n",
       "5          0.0     0.0        0.0  "
      ]
     },
     "execution_count": 97,
     "metadata": {},
     "output_type": "execute_result"
    }
   ],
   "source": [
    "covid = pd.read_csv('D:/root/GeekBrains/ds4_timeseries/Урок 3/covid_19_data.csv', index_col=[0], parse_dates=[0])\n",
    "covid.head()"
   ]
  },
  {
   "cell_type": "code",
   "execution_count": 98,
   "metadata": {},
   "outputs": [
    {
     "data": {
      "text/html": [
       "<div>\n",
       "<style scoped>\n",
       "    .dataframe tbody tr th:only-of-type {\n",
       "        vertical-align: middle;\n",
       "    }\n",
       "\n",
       "    .dataframe tbody tr th {\n",
       "        vertical-align: top;\n",
       "    }\n",
       "\n",
       "    .dataframe thead th {\n",
       "        text-align: right;\n",
       "    }\n",
       "</style>\n",
       "<table border=\"1\" class=\"dataframe\">\n",
       "  <thead>\n",
       "    <tr style=\"text-align: right;\">\n",
       "      <th></th>\n",
       "      <th>ObservationDate</th>\n",
       "      <th>Province/State</th>\n",
       "      <th>Country/Region</th>\n",
       "      <th>Last Update</th>\n",
       "      <th>Confirmed</th>\n",
       "      <th>Deaths</th>\n",
       "      <th>Recovered</th>\n",
       "    </tr>\n",
       "    <tr>\n",
       "      <th>SNo</th>\n",
       "      <th></th>\n",
       "      <th></th>\n",
       "      <th></th>\n",
       "      <th></th>\n",
       "      <th></th>\n",
       "      <th></th>\n",
       "      <th></th>\n",
       "    </tr>\n",
       "  </thead>\n",
       "  <tbody>\n",
       "    <tr>\n",
       "      <th>483</th>\n",
       "      <td>01/31/2020</td>\n",
       "      <td>NaN</td>\n",
       "      <td>Russia</td>\n",
       "      <td>1/31/2020 23:59</td>\n",
       "      <td>2.0</td>\n",
       "      <td>0.0</td>\n",
       "      <td>0.0</td>\n",
       "    </tr>\n",
       "    <tr>\n",
       "      <th>541</th>\n",
       "      <td>02/01/2020</td>\n",
       "      <td>NaN</td>\n",
       "      <td>Russia</td>\n",
       "      <td>1/31/2020 16:13</td>\n",
       "      <td>2.0</td>\n",
       "      <td>0.0</td>\n",
       "      <td>0.0</td>\n",
       "    </tr>\n",
       "    <tr>\n",
       "      <th>611</th>\n",
       "      <td>02/02/2020</td>\n",
       "      <td>NaN</td>\n",
       "      <td>Russia</td>\n",
       "      <td>2020-01-31T16:13:45</td>\n",
       "      <td>2.0</td>\n",
       "      <td>0.0</td>\n",
       "      <td>0.0</td>\n",
       "    </tr>\n",
       "    <tr>\n",
       "      <th>678</th>\n",
       "      <td>02/03/2020</td>\n",
       "      <td>NaN</td>\n",
       "      <td>Russia</td>\n",
       "      <td>2020-01-31T16:13:45</td>\n",
       "      <td>2.0</td>\n",
       "      <td>0.0</td>\n",
       "      <td>0.0</td>\n",
       "    </tr>\n",
       "    <tr>\n",
       "      <th>746</th>\n",
       "      <td>02/04/2020</td>\n",
       "      <td>NaN</td>\n",
       "      <td>Russia</td>\n",
       "      <td>2020-01-31T16:13:45</td>\n",
       "      <td>2.0</td>\n",
       "      <td>0.0</td>\n",
       "      <td>0.0</td>\n",
       "    </tr>\n",
       "  </tbody>\n",
       "</table>\n",
       "</div>"
      ],
      "text/plain": [
       "    ObservationDate Province/State Country/Region          Last Update  \\\n",
       "SNo                                                                      \n",
       "483      01/31/2020            NaN         Russia      1/31/2020 23:59   \n",
       "541      02/01/2020            NaN         Russia      1/31/2020 16:13   \n",
       "611      02/02/2020            NaN         Russia  2020-01-31T16:13:45   \n",
       "678      02/03/2020            NaN         Russia  2020-01-31T16:13:45   \n",
       "746      02/04/2020            NaN         Russia  2020-01-31T16:13:45   \n",
       "\n",
       "     Confirmed  Deaths  Recovered  \n",
       "SNo                                \n",
       "483        2.0     0.0        0.0  \n",
       "541        2.0     0.0        0.0  \n",
       "611        2.0     0.0        0.0  \n",
       "678        2.0     0.0        0.0  \n",
       "746        2.0     0.0        0.0  "
      ]
     },
     "execution_count": 98,
     "metadata": {},
     "output_type": "execute_result"
    }
   ],
   "source": [
    "covR = covid[covid['Country/Region'] == 'Russia']\n",
    "covR.head()"
   ]
  },
  {
   "cell_type": "code",
   "execution_count": 99,
   "metadata": {},
   "outputs": [
    {
     "name": "stdout",
     "output_type": "stream",
     "text": [
      "<class 'pandas.core.frame.DataFrame'>\n",
      "Int64Index: 96 entries, 483 to 21679\n",
      "Data columns (total 7 columns):\n",
      " #   Column          Non-Null Count  Dtype         \n",
      "---  ------          --------------  -----         \n",
      " 0   Date            96 non-null     datetime64[ns]\n",
      " 1   Province/State  0 non-null      object        \n",
      " 2   Country/Region  96 non-null     object        \n",
      " 3   Last Update     96 non-null     object        \n",
      " 4   Confirmed       96 non-null     float64       \n",
      " 5   Deaths          96 non-null     float64       \n",
      " 6   Recovered       96 non-null     float64       \n",
      "dtypes: datetime64[ns](1), float64(3), object(3)\n",
      "memory usage: 6.0+ KB\n"
     ]
    }
   ],
   "source": [
    "covR['ObservationDate'] = pd.to_datetime(covR['ObservationDate'])\n",
    "covR = covR.rename(columns={'ObservationDate': 'Date'})\n",
    "covR.info()"
   ]
  },
  {
   "cell_type": "code",
   "execution_count": 100,
   "metadata": {},
   "outputs": [
    {
     "data": {
      "text/html": [
       "<div>\n",
       "<style scoped>\n",
       "    .dataframe tbody tr th:only-of-type {\n",
       "        vertical-align: middle;\n",
       "    }\n",
       "\n",
       "    .dataframe tbody tr th {\n",
       "        vertical-align: top;\n",
       "    }\n",
       "\n",
       "    .dataframe thead th {\n",
       "        text-align: right;\n",
       "    }\n",
       "</style>\n",
       "<table border=\"1\" class=\"dataframe\">\n",
       "  <thead>\n",
       "    <tr style=\"text-align: right;\">\n",
       "      <th></th>\n",
       "      <th>Province/State</th>\n",
       "      <th>Country/Region</th>\n",
       "      <th>Last Update</th>\n",
       "      <th>Confirmed</th>\n",
       "      <th>Deaths</th>\n",
       "      <th>Recovered</th>\n",
       "    </tr>\n",
       "    <tr>\n",
       "      <th>Date</th>\n",
       "      <th></th>\n",
       "      <th></th>\n",
       "      <th></th>\n",
       "      <th></th>\n",
       "      <th></th>\n",
       "      <th></th>\n",
       "    </tr>\n",
       "  </thead>\n",
       "  <tbody>\n",
       "    <tr>\n",
       "      <th>2020-01-31</th>\n",
       "      <td>NaN</td>\n",
       "      <td>Russia</td>\n",
       "      <td>1/31/2020 23:59</td>\n",
       "      <td>2.0</td>\n",
       "      <td>0.0</td>\n",
       "      <td>0.0</td>\n",
       "    </tr>\n",
       "    <tr>\n",
       "      <th>2020-02-01</th>\n",
       "      <td>NaN</td>\n",
       "      <td>Russia</td>\n",
       "      <td>1/31/2020 16:13</td>\n",
       "      <td>2.0</td>\n",
       "      <td>0.0</td>\n",
       "      <td>0.0</td>\n",
       "    </tr>\n",
       "    <tr>\n",
       "      <th>2020-02-02</th>\n",
       "      <td>NaN</td>\n",
       "      <td>Russia</td>\n",
       "      <td>2020-01-31T16:13:45</td>\n",
       "      <td>2.0</td>\n",
       "      <td>0.0</td>\n",
       "      <td>0.0</td>\n",
       "    </tr>\n",
       "    <tr>\n",
       "      <th>2020-02-03</th>\n",
       "      <td>NaN</td>\n",
       "      <td>Russia</td>\n",
       "      <td>2020-01-31T16:13:45</td>\n",
       "      <td>2.0</td>\n",
       "      <td>0.0</td>\n",
       "      <td>0.0</td>\n",
       "    </tr>\n",
       "    <tr>\n",
       "      <th>2020-02-04</th>\n",
       "      <td>NaN</td>\n",
       "      <td>Russia</td>\n",
       "      <td>2020-01-31T16:13:45</td>\n",
       "      <td>2.0</td>\n",
       "      <td>0.0</td>\n",
       "      <td>0.0</td>\n",
       "    </tr>\n",
       "  </tbody>\n",
       "</table>\n",
       "</div>"
      ],
      "text/plain": [
       "           Province/State Country/Region          Last Update  Confirmed  \\\n",
       "Date                                                                       \n",
       "2020-01-31            NaN         Russia      1/31/2020 23:59        2.0   \n",
       "2020-02-01            NaN         Russia      1/31/2020 16:13        2.0   \n",
       "2020-02-02            NaN         Russia  2020-01-31T16:13:45        2.0   \n",
       "2020-02-03            NaN         Russia  2020-01-31T16:13:45        2.0   \n",
       "2020-02-04            NaN         Russia  2020-01-31T16:13:45        2.0   \n",
       "\n",
       "            Deaths  Recovered  \n",
       "Date                           \n",
       "2020-01-31     0.0        0.0  \n",
       "2020-02-01     0.0        0.0  \n",
       "2020-02-02     0.0        0.0  \n",
       "2020-02-03     0.0        0.0  \n",
       "2020-02-04     0.0        0.0  "
      ]
     },
     "execution_count": 100,
     "metadata": {},
     "output_type": "execute_result"
    }
   ],
   "source": [
    "covR.set_index('Date', inplace=True)\n",
    "covR.head()"
   ]
  },
  {
   "cell_type": "code",
   "execution_count": 101,
   "metadata": {},
   "outputs": [
    {
     "data": {
      "text/plain": [
       "array([nan, nan, nan, nan, nan, nan, nan, nan, nan, nan, nan, nan, nan,\n",
       "       nan, nan, nan, nan, nan, nan, nan, nan, nan, nan, nan, nan, nan,\n",
       "       nan, nan, nan, nan, nan, nan, nan, nan, nan, nan, nan, nan, nan,\n",
       "       nan, nan, nan, nan, nan, nan, nan, nan, nan, nan, nan, nan, nan,\n",
       "       nan, nan, nan, nan, nan, nan, nan, nan, nan, nan, nan, nan, nan,\n",
       "       nan, nan, nan, nan, nan, nan, nan, nan, nan, nan, nan, nan, nan,\n",
       "       nan, nan, nan, nan, nan, nan, nan, nan, nan, nan, nan, nan, nan,\n",
       "       nan, nan, nan, nan, nan], dtype=object)"
      ]
     },
     "execution_count": 101,
     "metadata": {},
     "output_type": "execute_result"
    }
   ],
   "source": [
    "covR['Province/State'].values"
   ]
  },
  {
   "cell_type": "code",
   "execution_count": 102,
   "metadata": {},
   "outputs": [
    {
     "data": {
      "text/html": [
       "<div>\n",
       "<style scoped>\n",
       "    .dataframe tbody tr th:only-of-type {\n",
       "        vertical-align: middle;\n",
       "    }\n",
       "\n",
       "    .dataframe tbody tr th {\n",
       "        vertical-align: top;\n",
       "    }\n",
       "\n",
       "    .dataframe thead th {\n",
       "        text-align: right;\n",
       "    }\n",
       "</style>\n",
       "<table border=\"1\" class=\"dataframe\">\n",
       "  <thead>\n",
       "    <tr style=\"text-align: right;\">\n",
       "      <th></th>\n",
       "      <th>Country/Region</th>\n",
       "      <th>Last Update</th>\n",
       "      <th>Confirmed</th>\n",
       "      <th>Deaths</th>\n",
       "      <th>Recovered</th>\n",
       "    </tr>\n",
       "    <tr>\n",
       "      <th>Date</th>\n",
       "      <th></th>\n",
       "      <th></th>\n",
       "      <th></th>\n",
       "      <th></th>\n",
       "      <th></th>\n",
       "    </tr>\n",
       "  </thead>\n",
       "  <tbody>\n",
       "    <tr>\n",
       "      <th>2020-01-31</th>\n",
       "      <td>Russia</td>\n",
       "      <td>2020-01-31 23:59:00</td>\n",
       "      <td>2.0</td>\n",
       "      <td>0.0</td>\n",
       "      <td>0.0</td>\n",
       "    </tr>\n",
       "    <tr>\n",
       "      <th>2020-02-01</th>\n",
       "      <td>Russia</td>\n",
       "      <td>2020-01-31 16:13:00</td>\n",
       "      <td>2.0</td>\n",
       "      <td>0.0</td>\n",
       "      <td>0.0</td>\n",
       "    </tr>\n",
       "    <tr>\n",
       "      <th>2020-02-02</th>\n",
       "      <td>Russia</td>\n",
       "      <td>2020-01-31 16:13:45</td>\n",
       "      <td>2.0</td>\n",
       "      <td>0.0</td>\n",
       "      <td>0.0</td>\n",
       "    </tr>\n",
       "    <tr>\n",
       "      <th>2020-02-03</th>\n",
       "      <td>Russia</td>\n",
       "      <td>2020-01-31 16:13:45</td>\n",
       "      <td>2.0</td>\n",
       "      <td>0.0</td>\n",
       "      <td>0.0</td>\n",
       "    </tr>\n",
       "    <tr>\n",
       "      <th>2020-02-04</th>\n",
       "      <td>Russia</td>\n",
       "      <td>2020-01-31 16:13:45</td>\n",
       "      <td>2.0</td>\n",
       "      <td>0.0</td>\n",
       "      <td>0.0</td>\n",
       "    </tr>\n",
       "  </tbody>\n",
       "</table>\n",
       "</div>"
      ],
      "text/plain": [
       "           Country/Region         Last Update  Confirmed  Deaths  Recovered\n",
       "Date                                                                       \n",
       "2020-01-31         Russia 2020-01-31 23:59:00        2.0     0.0        0.0\n",
       "2020-02-01         Russia 2020-01-31 16:13:00        2.0     0.0        0.0\n",
       "2020-02-02         Russia 2020-01-31 16:13:45        2.0     0.0        0.0\n",
       "2020-02-03         Russia 2020-01-31 16:13:45        2.0     0.0        0.0\n",
       "2020-02-04         Russia 2020-01-31 16:13:45        2.0     0.0        0.0"
      ]
     },
     "execution_count": 102,
     "metadata": {},
     "output_type": "execute_result"
    }
   ],
   "source": [
    "covR.drop(['Province/State'], axis='columns', inplace=True)\n",
    "covR['Last Update'] = pd.to_datetime(covR['Last Update'])\n",
    "covR.head()"
   ]
  },
  {
   "cell_type": "code",
   "execution_count": 103,
   "metadata": {},
   "outputs": [
    {
     "name": "stdout",
     "output_type": "stream",
     "text": [
      "<class 'pandas.core.frame.DataFrame'>\n",
      "DatetimeIndex: 96 entries, 2020-01-31 to 2020-05-05\n",
      "Data columns (total 5 columns):\n",
      " #   Column          Non-Null Count  Dtype         \n",
      "---  ------          --------------  -----         \n",
      " 0   Country/Region  96 non-null     object        \n",
      " 1   Last Update     96 non-null     datetime64[ns]\n",
      " 2   Confirmed       96 non-null     float64       \n",
      " 3   Deaths          96 non-null     float64       \n",
      " 4   Recovered       96 non-null     float64       \n",
      "dtypes: datetime64[ns](1), float64(3), object(1)\n",
      "memory usage: 4.5+ KB\n"
     ]
    }
   ],
   "source": [
    "covR.info()"
   ]
  },
  {
   "cell_type": "code",
   "execution_count": 104,
   "metadata": {},
   "outputs": [
    {
     "name": "stdout",
     "output_type": "stream",
     "text": [
      "<class 'pandas.core.frame.DataFrame'>\n",
      "DatetimeIndex: 96 entries, 2020-01-31 to 2020-05-05\n",
      "Data columns (total 5 columns):\n",
      " #   Column          Non-Null Count  Dtype         \n",
      "---  ------          --------------  -----         \n",
      " 0   Country/Region  96 non-null     object        \n",
      " 1   Last Update     96 non-null     datetime64[ns]\n",
      " 2   Confirmed       96 non-null     int32         \n",
      " 3   Deaths          96 non-null     int32         \n",
      " 4   Recovered       96 non-null     int32         \n",
      "dtypes: datetime64[ns](1), int32(3), object(1)\n",
      "memory usage: 3.4+ KB\n"
     ]
    }
   ],
   "source": [
    "covR['Confirmed'] = covR['Confirmed'].astype(int)\n",
    "covR['Deaths'] = covR['Deaths'].astype(int)\n",
    "covR['Recovered'] = covR['Recovered'].astype(int)\n",
    "covR.info()"
   ]
  },
  {
   "cell_type": "code",
   "execution_count": 105,
   "metadata": {},
   "outputs": [
    {
     "data": {
      "text/plain": [
       "0"
      ]
     },
     "execution_count": 105,
     "metadata": {},
     "output_type": "execute_result"
    }
   ],
   "source": [
    "covR.index.isnull().sum()"
   ]
  },
  {
   "cell_type": "code",
   "execution_count": 106,
   "metadata": {},
   "outputs": [
    {
     "data": {
      "text/plain": [
       "<matplotlib.legend.Legend at 0x276bcc9b828>"
      ]
     },
     "execution_count": 106,
     "metadata": {},
     "output_type": "execute_result"
    },
    {
     "data": {
      "image/png": "[encoded data removed]",
      "text/plain": [
       "<Figure size 720x576 with 1 Axes>"
      ]
     },
     "metadata": {
      "needs_background": "light"
     },
     "output_type": "display_data"
    }
   ],
   "source": [
    "plt.figure( figsize=( 10, 8 ))\n",
    "plt.subplot(3,1,1)\n",
    "\n",
    "plt.ylabel('Количество человек')\n",
    "plt.plot(covR.index, covR['Deaths'], label='Количество смертей')\n",
    "plt.plot(covR.index, covR['Recovered'], label='Количество выздоровевших')\n",
    "plt.plot(covR.index, covR['Confirmed'], label='Диагноситровано пациентов')\n",
    "plt.title( 'Статистика заболевших в РФ' )\n",
    "plt.grid()\n",
    "plt.legend()"
   ]
  },
  {
   "cell_type": "code",
   "execution_count": 107,
   "metadata": {},
   "outputs": [
    {
     "data": {
      "text/html": [
       "<div>\n",
       "<style scoped>\n",
       "    .dataframe tbody tr th:only-of-type {\n",
       "        vertical-align: middle;\n",
       "    }\n",
       "\n",
       "    .dataframe tbody tr th {\n",
       "        vertical-align: top;\n",
       "    }\n",
       "\n",
       "    .dataframe thead th {\n",
       "        text-align: right;\n",
       "    }\n",
       "</style>\n",
       "<table border=\"1\" class=\"dataframe\">\n",
       "  <thead>\n",
       "    <tr style=\"text-align: right;\">\n",
       "      <th></th>\n",
       "      <th>Country/Region</th>\n",
       "      <th>Last Update</th>\n",
       "      <th>Confirmed</th>\n",
       "      <th>Deaths</th>\n",
       "      <th>Recovered</th>\n",
       "    </tr>\n",
       "    <tr>\n",
       "      <th>Date</th>\n",
       "      <th></th>\n",
       "      <th></th>\n",
       "      <th></th>\n",
       "      <th></th>\n",
       "      <th></th>\n",
       "    </tr>\n",
       "  </thead>\n",
       "  <tbody>\n",
       "    <tr>\n",
       "      <th>2020-05-01</th>\n",
       "      <td>Russia</td>\n",
       "      <td>2020-05-02 02:32:27</td>\n",
       "      <td>114431</td>\n",
       "      <td>1169</td>\n",
       "      <td>13220</td>\n",
       "    </tr>\n",
       "    <tr>\n",
       "      <th>2020-05-02</th>\n",
       "      <td>Russia</td>\n",
       "      <td>2020-05-03 02:32:28</td>\n",
       "      <td>124054</td>\n",
       "      <td>1222</td>\n",
       "      <td>15013</td>\n",
       "    </tr>\n",
       "    <tr>\n",
       "      <th>2020-05-03</th>\n",
       "      <td>Russia</td>\n",
       "      <td>2020-05-04 02:32:28</td>\n",
       "      <td>134687</td>\n",
       "      <td>1280</td>\n",
       "      <td>16639</td>\n",
       "    </tr>\n",
       "    <tr>\n",
       "      <th>2020-05-04</th>\n",
       "      <td>Russia</td>\n",
       "      <td>2020-05-05 02:32:34</td>\n",
       "      <td>145268</td>\n",
       "      <td>1356</td>\n",
       "      <td>18095</td>\n",
       "    </tr>\n",
       "    <tr>\n",
       "      <th>2020-05-05</th>\n",
       "      <td>Russia</td>\n",
       "      <td>2020-05-06 02:32:31</td>\n",
       "      <td>155370</td>\n",
       "      <td>1451</td>\n",
       "      <td>19865</td>\n",
       "    </tr>\n",
       "  </tbody>\n",
       "</table>\n",
       "</div>"
      ],
      "text/plain": [
       "           Country/Region         Last Update  Confirmed  Deaths  Recovered\n",
       "Date                                                                       \n",
       "2020-05-01         Russia 2020-05-02 02:32:27     114431    1169      13220\n",
       "2020-05-02         Russia 2020-05-03 02:32:28     124054    1222      15013\n",
       "2020-05-03         Russia 2020-05-04 02:32:28     134687    1280      16639\n",
       "2020-05-04         Russia 2020-05-05 02:32:34     145268    1356      18095\n",
       "2020-05-05         Russia 2020-05-06 02:32:31     155370    1451      19865"
      ]
     },
     "execution_count": 107,
     "metadata": {},
     "output_type": "execute_result"
    }
   ],
   "source": [
    "covR.tail()"
   ]
  },
  {
   "cell_type": "code",
   "execution_count": 108,
   "metadata": {},
   "outputs": [
    {
     "data": {
      "text/plain": [
       "True"
      ]
     },
     "execution_count": 108,
     "metadata": {},
     "output_type": "execute_result"
    }
   ],
   "source": [
    "covR.index.nunique() == covR.shape[0]"
   ]
  },
  {
   "cell_type": "markdown",
   "metadata": {},
   "source": [
    "Число измерений (строк) совпадает с числом уникальных индексов - значит, повторов дат нет."
   ]
  },
  {
   "cell_type": "code",
   "execution_count": 110,
   "metadata": {},
   "outputs": [
    {
     "data": {
      "text/plain": [
       "(0.5899400708748731,\n",
       " 1.0,\n",
       " 12,\n",
       " 83,\n",
       " {'1%': -4.516530531666512,\n",
       "  '5%': -3.9055629145643396,\n",
       "  '10%': -3.598231051108192},\n",
       " 1204.8024650006182)"
      ]
     },
     "execution_count": 110,
     "metadata": {},
     "output_type": "execute_result"
    }
   ],
   "source": [
    "DFconf = sm.tsa.stattools.adfuller(covR['Confirmed'].values, regression='ctt')\n",
    "DFconf"
   ]
  },
  {
   "cell_type": "markdown",
   "metadata": {},
   "source": [
    "Dfconf[1]=1.0 - значит, ряд нестационарен"
   ]
  },
  {
   "cell_type": "code",
   "execution_count": 111,
   "metadata": {},
   "outputs": [
    {
     "data": {
      "text/plain": [
       "(-3.7278543358311564,\n",
       " 0.06559458306775844,\n",
       " 12,\n",
       " 83,\n",
       " {'1%': -4.516530531666512,\n",
       "  '5%': -3.9055629145643396,\n",
       "  '10%': -3.598231051108192},\n",
       " 538.1701648874559)"
      ]
     },
     "execution_count": 111,
     "metadata": {},
     "output_type": "execute_result"
    }
   ],
   "source": [
    "DFdeath = sm.tsa.stattools.adfuller(covR['Deaths'].values, regression='ctt')\n",
    "DFdeath"
   ]
  },
  {
   "cell_type": "markdown",
   "metadata": {},
   "source": [
    "Dfconf[1]=0.06 - значит, ряд стационарен"
   ]
  },
  {
   "cell_type": "code",
   "execution_count": 112,
   "metadata": {},
   "outputs": [
    {
     "data": {
      "text/plain": [
       "(5.065196555131034,\n",
       " 1.0,\n",
       " 12,\n",
       " 83,\n",
       " {'1%': -4.516530531666512,\n",
       "  '5%': -3.9055629145643396,\n",
       "  '10%': -3.598231051108192},\n",
       " 970.2589265391254)"
      ]
     },
     "execution_count": 112,
     "metadata": {},
     "output_type": "execute_result"
    }
   ],
   "source": [
    "DFrec = sm.tsa.stattools.adfuller(covR['Recovered'].values, regression='ctt')\n",
    "DFrec"
   ]
  },
  {
   "cell_type": "markdown",
   "metadata": {},
   "source": [
    "Dfconf[1]=1.0 - значит, ряд нестационарен"
   ]
  },
  {
   "cell_type": "markdown",
   "metadata": {},
   "source": [
    "Посмотрим, что будетс нестационарными рядами, если мы возьмем первые разности:"
   ]
  },
  {
   "cell_type": "code",
   "execution_count": 113,
   "metadata": {},
   "outputs": [
    {
     "data": {
      "text/html": [
       "<div>\n",
       "<style scoped>\n",
       "    .dataframe tbody tr th:only-of-type {\n",
       "        vertical-align: middle;\n",
       "    }\n",
       "\n",
       "    .dataframe tbody tr th {\n",
       "        vertical-align: top;\n",
       "    }\n",
       "\n",
       "    .dataframe thead th {\n",
       "        text-align: right;\n",
       "    }\n",
       "</style>\n",
       "<table border=\"1\" class=\"dataframe\">\n",
       "  <thead>\n",
       "    <tr style=\"text-align: right;\">\n",
       "      <th></th>\n",
       "      <th>Confirmed</th>\n",
       "    </tr>\n",
       "    <tr>\n",
       "      <th>Date</th>\n",
       "      <th></th>\n",
       "    </tr>\n",
       "  </thead>\n",
       "  <tbody>\n",
       "    <tr>\n",
       "      <th>2020-05-01</th>\n",
       "      <td>7933.0</td>\n",
       "    </tr>\n",
       "    <tr>\n",
       "      <th>2020-05-02</th>\n",
       "      <td>9623.0</td>\n",
       "    </tr>\n",
       "    <tr>\n",
       "      <th>2020-05-03</th>\n",
       "      <td>10633.0</td>\n",
       "    </tr>\n",
       "    <tr>\n",
       "      <th>2020-05-04</th>\n",
       "      <td>10581.0</td>\n",
       "    </tr>\n",
       "    <tr>\n",
       "      <th>2020-05-05</th>\n",
       "      <td>10102.0</td>\n",
       "    </tr>\n",
       "  </tbody>\n",
       "</table>\n",
       "</div>"
      ],
      "text/plain": [
       "            Confirmed\n",
       "Date                 \n",
       "2020-05-01     7933.0\n",
       "2020-05-02     9623.0\n",
       "2020-05-03    10633.0\n",
       "2020-05-04    10581.0\n",
       "2020-05-05    10102.0"
      ]
     },
     "execution_count": 113,
     "metadata": {},
     "output_type": "execute_result"
    }
   ],
   "source": [
    "confirmed = covR[['Confirmed']].diff()\n",
    "confirmed.tail(5)"
   ]
  },
  {
   "cell_type": "code",
   "execution_count": 134,
   "metadata": {},
   "outputs": [
    {
     "data": {
      "image/png": "[encoded data removed]",
      "text/plain": [
       "<Figure size 1080x720 with 2 Axes>"
      ]
     },
     "metadata": {
      "needs_background": "light"
     },
     "output_type": "display_data"
    }
   ],
   "source": [
    "plt.figure(figsize=(15, 10))\n",
    "plt.subplot(2,1,1)\n",
    "\n",
    "plt.plot(confirmed.index, confirmed['Confirmed'])\n",
    "plt.xlabel('дата')\n",
    "plt.title('Количество заболевших')\n",
    "\n",
    "plt.subplot(2,1,2)\n",
    "plt.plot(confirmed.index, confirmed['Confirmed'], label = \"первые разности\")\n",
    "plt.plot(covR.index, covR['Recovered'], label = \"исходные данные\")\n",
    "plt.xlabel('дата')\n",
    "plt.title('Количество заболевших')\n",
    "plt.legend()\n",
    "plt.show()"
   ]
  },
  {
   "cell_type": "code",
   "execution_count": 116,
   "metadata": {},
   "outputs": [],
   "source": [
    "rec = covR[['Recovered']].diff()"
   ]
  },
  {
   "cell_type": "code",
   "execution_count": 132,
   "metadata": {},
   "outputs": [
    {
     "data": {
      "image/png": "[encoded data removed]",
      "text/plain": [
       "<Figure size 1080x720 with 2 Axes>"
      ]
     },
     "metadata": {
      "needs_background": "light"
     },
     "output_type": "display_data"
    }
   ],
   "source": [
    "plt.figure(figsize=(15,10))\n",
    "plt.subplot(2,1,1)\n",
    "plt.plot(rec.index, rec['Recovered'])\n",
    "plt.xlabel('дата')\n",
    "plt.title('Количество выздоровевших')\n",
    "\n",
    "plt.subplot(2,1,2)\n",
    "plt.plot(rec.index, rec['Recovered'], label = \"первые разности\")\n",
    "plt.plot(covR.index, covR['Recovered'], label = \"исходные данные\")\n",
    "plt.xlabel('дата')\n",
    "plt.title('Количество выздоровевших')\n",
    "plt.legend()\n",
    "plt.show()"
   ]
  },
  {
   "cell_type": "markdown",
   "metadata": {},
   "source": [
    "Ряды все еще мало напоминают стационарные, если посмотреть на графики отдельно по первым разностям. Однако, в сравнении с исходными данными результаты обнадеживают.\n",
    "\n",
    "Посмотрим на стационарный ряд умерших:"
   ]
  },
  {
   "cell_type": "code",
   "execution_count": 119,
   "metadata": {},
   "outputs": [],
   "source": [
    "d = covR[['Deaths']].diff()"
   ]
  },
  {
   "cell_type": "code",
   "execution_count": 140,
   "metadata": {},
   "outputs": [
    {
     "data": {
      "image/png": "[encoded data removed]",
      "text/plain": [
       "<Figure size 1800x720 with 2 Axes>"
      ]
     },
     "metadata": {
      "needs_background": "light"
     },
     "output_type": "display_data"
    }
   ],
   "source": [
    "plt.figure(figsize=(25,10))\n",
    "plt.subplot(2,1,1)\n",
    "plt.plot(d.index, d['Deaths'])\n",
    "plt.xlabel('дата')\n",
    "plt.title('Количество умерших')\n",
    "\n",
    "plt.subplot(2,1,2)\n",
    "plt.plot(d.index, d['Deaths'], label = \"первые разности\")\n",
    "plt.plot(covR.index, covR['Deaths'], label = \"исходные данные\")\n",
    "plt.xlabel('дата')\n",
    "plt.title('Количество умерших')\n",
    "plt.legend()\n",
    "plt.show()"
   ]
  },
  {
   "cell_type": "markdown",
   "metadata": {},
   "source": [
    "Что ж, ряд по смертям изначально был стационарен по оценке Дики-Фуллера, а сейчас он еще больше сгладился.\n",
    "\n",
    "В целом, самый неблагонадежный (судя по графикам) - ряд общего количества заболевших. "
   ]
  },
  {
   "cell_type": "markdown",
   "metadata": {},
   "source": [
    "Рассмотрим ряд по смертям (самый обнадеживающий). Посмотрим на автокорреляцию и частичную автокорреляцию значений по количеству умерших:"
   ]
  },
  {
   "cell_type": "code",
   "execution_count": 142,
   "metadata": {},
   "outputs": [
    {
     "data": {
      "image/png": "[encoded data removed]",
      "text/plain": [
       "<Figure size 432x288 with 1 Axes>"
      ]
     },
     "metadata": {
      "needs_background": "light"
     },
     "output_type": "display_data"
    },
    {
     "data": {
      "image/png": "[encoded data removed]",
      "text/plain": [
       "<Figure size 432x288 with 1 Axes>"
      ]
     },
     "metadata": {
      "needs_background": "light"
     },
     "output_type": "display_data"
    }
   ],
   "source": [
    "sm.graphics.tsa.plot_acf(covR['Deaths'].values, lags=28)\n",
    "plt.show()\n",
    "\n",
    "sm.graphics.tsa.plot_pacf(covR['Deaths'].values, lags=28)\n",
    "plt.show()"
   ]
  },
  {
   "cell_type": "markdown",
   "metadata": {},
   "source": [
    "Видим по первому графику нисходящую корреляцию в течение первых 20-и дней. Особенно выделяются первые 7 дней. Значит, параметр части MA нужно будет выбирать из этих чисел. На втором графике видно, что частичная автокорреляция сильна только для первых 2-х дня. В целом же, видим, что ряд стационарный. "
   ]
  },
  {
   "cell_type": "code",
   "execution_count": 155,
   "metadata": {},
   "outputs": [],
   "source": [
    "# Определим p, d и q в диапазоне 0-3\n",
    "p = d = q = range(0, 6)\n",
    "# зададим сетку p, q и q\n",
    "pdq = list(itertools.product(p, d, q))"
   ]
  },
  {
   "cell_type": "code",
   "execution_count": 158,
   "metadata": {},
   "outputs": [
    {
     "name": "stdout",
     "output_type": "stream",
     "text": [
      "ARIMA(0, 0, 0) - AIC: 1108.7728139350615\n",
      "ARIMA(0, 0, 1) - AIC: 1004.9304187956018\n",
      "ARIMA(0, 0, 2) - AIC: 905.8966645885356\n",
      "ARIMA(0, 0, 3) - AIC: 834.7722114695518\n",
      "ARIMA(0, 0, 4) - AIC: 761.7161731757967\n",
      "ARIMA(0, 0, 5) - AIC: 729.574497512249\n",
      "ARIMA(0, 1, 0) - AIC: 717.565333086489\n",
      "ARIMA(0, 1, 1) - AIC: 633.2404638953907\n",
      "ARIMA(0, 1, 2) - AIC: 605.6230034348494\n",
      "ARIMA(0, 1, 3) - AIC: 553.3642458184311\n",
      "ARIMA(0, 1, 4) - AIC: 542.4907202599591\n",
      "ARIMA(0, 1, 5) - AIC: 534.3879787194112\n",
      "ARIMA(0, 2, 0) - AIC: 480.1443967448075\n",
      "ARIMA(0, 2, 1) - AIC: 468.88964682886785\n",
      "ARIMA(0, 2, 2) - AIC: 450.18691004003017\n",
      "ARIMA(0, 2, 3) - AIC: 443.11633827647984\n",
      "ARIMA(0, 2, 4) - AIC: 442.4102357387653\n",
      "ARIMA(0, 2, 5) - AIC: 443.9793950799585\n",
      "ARIMA(1, 0, 0) - AIC: 767.2500516962781\n",
      "ARIMA(1, 1, 0) - AIC: 508.5187490156692\n",
      "ARIMA(1, 2, 0) - AIC: 466.4821539261204\n",
      "ARIMA(1, 2, 1) - AIC: 467.85565397703783\n",
      "ARIMA(1, 2, 2) - AIC: 448.2520547884154\n",
      "ARIMA(1, 2, 3) - AIC: 441.859075067657\n",
      "ARIMA(1, 2, 4) - AIC: 443.80794257046705\n",
      "ARIMA(1, 2, 5) - AIC: 443.4127334969904\n",
      "ARIMA(2, 1, 0) - AIC: 484.6168913504929\n",
      "ARIMA(2, 2, 0) - AIC: 465.94094819687695\n",
      "ARIMA(2, 2, 1) - AIC: 456.73866903756516\n",
      "ARIMA(2, 2, 2) - AIC: 452.2947675894026\n",
      "ARIMA(2, 2, 3) - AIC: 442.8343174237817\n",
      "ARIMA(2, 2, 4) - AIC: 440.5666805035273\n",
      "ARIMA(3, 1, 0) - AIC: 485.97464358955347\n",
      "ARIMA(3, 2, 0) - AIC: 440.5615980646814\n",
      "ARIMA(3, 2, 1) - AIC: 438.30328210025675\n",
      "ARIMA(3, 2, 2) - AIC: 438.064927123891\n",
      "ARIMA(3, 2, 3) - AIC: 439.98115566448115\n",
      "ARIMA(4, 1, 0) - AIC: 466.118460722191\n",
      "ARIMA(4, 2, 0) - AIC: 440.0454038614712\n",
      "ARIMA(4, 2, 1) - AIC: 438.1494408596943\n",
      "ARIMA(4, 2, 2) - AIC: 440.1416884142951\n",
      "ARIMA(4, 2, 3) - AIC: 449.736978741599\n",
      "ARIMA(4, 2, 4) - AIC: 442.18664437441953\n",
      "ARIMA(5, 1, 0) - AIC: 466.4892037669113\n",
      "ARIMA(5, 2, 0) - AIC: 440.5152397496188\n",
      "ARIMA(5, 2, 1) - AIC: 441.19134745868166\n"
     ]
    }
   ],
   "source": [
    "from statsmodels.tsa.arima_model import ARIMA\n",
    "warnings.filterwarnings(\"ignore\") # отключает предупреждения\n",
    "p1 = list()\n",
    "ps = list()\n",
    "aic = list()\n",
    "for param in pdq:\n",
    "    try:\n",
    "        mod = ARIMA(covR['Deaths'].values[:-10], order=param)\n",
    "        results = mod.fit(disp=False)\n",
    "        p1.append(param)\n",
    "        #ps.append(param_seasonal)\n",
    "        aic.append(results.aic)\n",
    "        print('ARIMA{} - AIC: {}'.format(param, results.aic))\n",
    "    except:\n",
    "        continue"
   ]
  },
  {
   "cell_type": "code",
   "execution_count": 160,
   "metadata": {},
   "outputs": [
    {
     "name": "stdout",
     "output_type": "stream",
     "text": [
      "[(0, 0, 0), (0, 0, 1), (0, 0, 2), (0, 0, 3), (0, 0, 4), (0, 0, 5), (0, 1, 0), (0, 1, 1), (0, 1, 2), (0, 1, 3), (0, 1, 4), (0, 1, 5), (0, 2, 0), (0, 2, 1), (0, 2, 2), (0, 2, 3), (0, 2, 4), (0, 2, 5), (0, 3, 0), (0, 3, 1), (0, 3, 2), (0, 3, 3), (0, 3, 4), (0, 3, 5), (0, 4, 0), (0, 4, 1), (0, 4, 2), (0, 4, 3), (0, 4, 4), (0, 4, 5), (0, 5, 0), (0, 5, 1), (0, 5, 2), (0, 5, 3), (0, 5, 4), (0, 5, 5), (1, 0, 0), (1, 0, 1), (1, 0, 2), (1, 0, 3), (1, 0, 4), (1, 0, 5), (1, 1, 0), (1, 1, 1), (1, 1, 2), (1, 1, 3), (1, 1, 4), (1, 1, 5), (1, 2, 0), (1, 2, 1), (1, 2, 2), (1, 2, 3), (1, 2, 4), (1, 2, 5), (1, 3, 0), (1, 3, 1), (1, 3, 2), (1, 3, 3), (1, 3, 4), (1, 3, 5), (1, 4, 0), (1, 4, 1), (1, 4, 2), (1, 4, 3), (1, 4, 4), (1, 4, 5), (1, 5, 0), (1, 5, 1), (1, 5, 2), (1, 5, 3), (1, 5, 4), (1, 5, 5), (2, 0, 0), (2, 0, 1), (2, 0, 2), (2, 0, 3), (2, 0, 4), (2, 0, 5), (2, 1, 0), (2, 1, 1), (2, 1, 2), (2, 1, 3), (2, 1, 4), (2, 1, 5), (2, 2, 0), (2, 2, 1), (2, 2, 2), (2, 2, 3), (2, 2, 4), (2, 2, 5), (2, 3, 0), (2, 3, 1), (2, 3, 2), (2, 3, 3), (2, 3, 4), (2, 3, 5), (2, 4, 0), (2, 4, 1), (2, 4, 2), (2, 4, 3), (2, 4, 4), (2, 4, 5), (2, 5, 0), (2, 5, 1), (2, 5, 2), (2, 5, 3), (2, 5, 4), (2, 5, 5), (3, 0, 0), (3, 0, 1), (3, 0, 2), (3, 0, 3), (3, 0, 4), (3, 0, 5), (3, 1, 0), (3, 1, 1), (3, 1, 2), (3, 1, 3), (3, 1, 4), (3, 1, 5), (3, 2, 0), (3, 2, 1), (3, 2, 2), (3, 2, 3), (3, 2, 4), (3, 2, 5), (3, 3, 0), (3, 3, 1), (3, 3, 2), (3, 3, 3), (3, 3, 4), (3, 3, 5), (3, 4, 0), (3, 4, 1), (3, 4, 2), (3, 4, 3), (3, 4, 4), (3, 4, 5), (3, 5, 0), (3, 5, 1), (3, 5, 2), (3, 5, 3), (3, 5, 4), (3, 5, 5), (4, 0, 0), (4, 0, 1), (4, 0, 2), (4, 0, 3), (4, 0, 4), (4, 0, 5), (4, 1, 0), (4, 1, 1), (4, 1, 2), (4, 1, 3), (4, 1, 4), (4, 1, 5), (4, 2, 0), (4, 2, 1), (4, 2, 2), (4, 2, 3), (4, 2, 4), (4, 2, 5), (4, 3, 0), (4, 3, 1), (4, 3, 2), (4, 3, 3), (4, 3, 4), (4, 3, 5), (4, 4, 0), (4, 4, 1), (4, 4, 2), (4, 4, 3), (4, 4, 4), (4, 4, 5), (4, 5, 0), (4, 5, 1), (4, 5, 2), (4, 5, 3), (4, 5, 4), (4, 5, 5), (5, 0, 0), (5, 0, 1), (5, 0, 2), (5, 0, 3), (5, 0, 4), (5, 0, 5), (5, 1, 0), (5, 1, 1), (5, 1, 2), (5, 1, 3), (5, 1, 4), (5, 1, 5), (5, 2, 0), (5, 2, 1), (5, 2, 2), (5, 2, 3), (5, 2, 4), (5, 2, 5), (5, 3, 0), (5, 3, 1), (5, 3, 2), (5, 3, 3), (5, 3, 4), (5, 3, 5), (5, 4, 0), (5, 4, 1), (5, 4, 2), (5, 4, 3), (5, 4, 4), (5, 4, 5), (5, 5, 0), (5, 5, 1), (5, 5, 2), (5, 5, 3), (5, 5, 4), (5, 5, 5)]\n"
     ]
    }
   ],
   "source": [
    "print(pdq)"
   ]
  },
  {
   "cell_type": "code",
   "execution_count": 161,
   "metadata": {},
   "outputs": [
    {
     "data": {
      "text/html": [
       "<div>\n",
       "<style scoped>\n",
       "    .dataframe tbody tr th:only-of-type {\n",
       "        vertical-align: middle;\n",
       "    }\n",
       "\n",
       "    .dataframe tbody tr th {\n",
       "        vertical-align: top;\n",
       "    }\n",
       "\n",
       "    .dataframe thead th {\n",
       "        text-align: right;\n",
       "    }\n",
       "</style>\n",
       "<table border=\"1\" class=\"dataframe\">\n",
       "  <thead>\n",
       "    <tr style=\"text-align: right;\">\n",
       "      <th></th>\n",
       "      <th>Parameters</th>\n",
       "      <th>AIC</th>\n",
       "    </tr>\n",
       "  </thead>\n",
       "  <tbody>\n",
       "    <tr>\n",
       "      <th>0</th>\n",
       "      <td>(0, 0, 0)</td>\n",
       "      <td>1108.772814</td>\n",
       "    </tr>\n",
       "    <tr>\n",
       "      <th>1</th>\n",
       "      <td>(0, 0, 1)</td>\n",
       "      <td>1004.930419</td>\n",
       "    </tr>\n",
       "    <tr>\n",
       "      <th>2</th>\n",
       "      <td>(0, 0, 2)</td>\n",
       "      <td>905.896665</td>\n",
       "    </tr>\n",
       "    <tr>\n",
       "      <th>3</th>\n",
       "      <td>(0, 0, 3)</td>\n",
       "      <td>834.772211</td>\n",
       "    </tr>\n",
       "    <tr>\n",
       "      <th>4</th>\n",
       "      <td>(0, 0, 4)</td>\n",
       "      <td>761.716173</td>\n",
       "    </tr>\n",
       "  </tbody>\n",
       "</table>\n",
       "</div>"
      ],
      "text/plain": [
       "  Parameters          AIC\n",
       "0  (0, 0, 0)  1108.772814\n",
       "1  (0, 0, 1)  1004.930419\n",
       "2  (0, 0, 2)   905.896665\n",
       "3  (0, 0, 3)   834.772211\n",
       "4  (0, 0, 4)   761.716173"
      ]
     },
     "execution_count": 161,
     "metadata": {},
     "output_type": "execute_result"
    }
   ],
   "source": [
    "data = {'Parameters': p1, 'AIC': aic}\n",
    "info = pd.DataFrame(data)\n",
    "info.head()"
   ]
  },
  {
   "cell_type": "code",
   "execution_count": 166,
   "metadata": {},
   "outputs": [
    {
     "data": {
      "text/plain": [
       "438.064927123891"
      ]
     },
     "execution_count": 166,
     "metadata": {},
     "output_type": "execute_result"
    }
   ],
   "source": [
    "m = info.min()\n",
    "m[1]"
   ]
  },
  {
   "cell_type": "code",
   "execution_count": 168,
   "metadata": {},
   "outputs": [
    {
     "name": "stdout",
     "output_type": "stream",
     "text": [
      "Parameters    (3, 2, 2)\n",
      "AIC             438.065\n",
      "Name: 35, dtype: object\n"
     ]
    }
   ],
   "source": [
    "m = info.min()\n",
    "for i in range(len(info)):\n",
    "    if info.loc[i, 'AIC'] == m[1]:\n",
    "        print(info.iloc[i])"
   ]
  },
  {
   "cell_type": "code",
   "execution_count": 169,
   "metadata": {},
   "outputs": [
    {
     "name": "stdout",
     "output_type": "stream",
     "text": [
      "AIC:438.064927123891\n",
      "                             ARIMA Model Results                              \n",
      "==============================================================================\n",
      "Dep. Variable:                   D2.y   No. Observations:                   84\n",
      "Model:                 ARIMA(3, 2, 2)   Log Likelihood                -212.032\n",
      "Method:                       css-mle   S.D. of innovations              2.975\n",
      "Date:                Wed, 20 May 2020   AIC                            438.065\n",
      "Time:                        21:04:13   BIC                            455.081\n",
      "Sample:                             2   HQIC                           444.905\n",
      "                                                                              \n",
      "============================================================================== ==============================================================================\n",
      "                 coef    std err          z      P>|z|      [0.025      0.975]\n",
      "------------------------------------------------------------------------------\n",
      "const          1.0953      0.993      1.103      0.270      -0.851       3.042\n",
      "ar.L1.D2.y    -0.2285      0.141     -1.617      0.106      -0.505       0.048\n",
      "ar.L2.D2.y     0.3896      0.127      3.067      0.002       0.141       0.639\n",
      "ar.L3.D2.y     0.7585      0.095      7.958      0.000       0.572       0.945\n",
      "ma.L1.D2.y    -0.3724      0.206     -1.812      0.070      -0.775       0.031\n",
      "ma.L2.D2.y    -0.3139      0.207     -1.520      0.129      -0.719       0.091\n",
      "==============================================================================\n"
     ]
    }
   ],
   "source": [
    "model = ARIMA(covR['Deaths'].values[:-10],\n",
    "                               order = [3, 2, 2])\n",
    "result1 = model.fit()\n",
    "print('AIC:{}'.format(result1.aic))\n",
    "\n",
    "print(result1.summary().tables[0],result1.summary().tables[1])"
   ]
  },
  {
   "cell_type": "markdown",
   "metadata": {},
   "source": [
    "Видим, что коэффициенты AIC, BIQ, HQIC примерно равны, Log Likelihood отрицательный, но не такой как в моделях для потребления энергии. Интересно, что коэффициенты довольно низкие."
   ]
  },
  {
   "cell_type": "markdown",
   "metadata": {},
   "source": [
    "Посмотрим на автокорреляцию остатков:"
   ]
  },
  {
   "cell_type": "code",
   "execution_count": 174,
   "metadata": {},
   "outputs": [
    {
     "data": {
      "image/png": "[encoded data removed]",
      "text/plain": [
       "<Figure size 432x288 with 1 Axes>"
      ]
     },
     "metadata": {
      "needs_background": "light"
     },
     "output_type": "display_data"
    }
   ],
   "source": [
    "sm.graphics.tsa.plot_acf(result1.resid, lags=38)\n",
    "plt.show()"
   ]
  },
  {
   "cell_type": "markdown",
   "metadata": {},
   "source": [
    "Видим, что все же присутствует значительная автокорреляция в течении первых 20-ти дней. Это значит, что остатки модели не похожи на белый шум. (Что делать при построении ARIMA? До этого сглаживали экспоненциально, а что теперь?)"
   ]
  },
  {
   "cell_type": "markdown",
   "metadata": {},
   "source": [
    "Предскажем оставшиеся данные (10 точек) и посмотрим на результат на графике:"
   ]
  },
  {
   "cell_type": "code",
   "execution_count": 187,
   "metadata": {},
   "outputs": [
    {
     "data": {
      "image/png": "[encoded data removed]",
      "text/plain": [
       "<Figure size 720x360 with 1 Axes>"
      ]
     },
     "metadata": {
      "needs_background": "light"
     },
     "output_type": "display_data"
    }
   ],
   "source": [
    "N=10\n",
    "pred = result1.forecast(2*N)    #предскажем оставшиеся 10 точек\n",
    "\n",
    "plt.figure( figsize=( 10, 5 ))\n",
    "plt.plot(np.arange(2*N)+N, pred[0], 'g', label ='predict')\n",
    "plt.plot(np.arange(2*N)+N, pred[2][:,1], '--g', label = 'граница')\n",
    "plt.plot(np.arange(2*N)+N, pred[2][:,0], '--g')\n",
    "plt.plot(covR['Deaths'].values[-10-N:], 'r', label ='true')\n",
    "\n",
    "plt.xlabel('Дата')\n",
    "plt.ylabel('Количество человек')\n",
    "plt.title('Предсказание последних 10 точек ряда  и следующих 10 точек ряда')\n",
    "plt.legend()\n",
    "plt.show()"
   ]
  },
  {
   "cell_type": "markdown",
   "metadata": {},
   "source": [
    "#### 5. Оцените результат моделирования"
   ]
  },
  {
   "cell_type": "markdown",
   "metadata": {},
   "source": [
    "Судя по довольно низкой AIC оценке и ппо графику предсказания, модель получилась довольно хорошая. Хотя вызывает вопрос автокорреляция остатков и границы допустимых значений AIC, чтобы принять модель за \"хорошую\". Еще нужно учесть, что данных было мало (96 записей), а значит, построить хорошую предсказательную модель очень сложно, если не невозможно."
   ]
  },
  {
   "cell_type": "code",
   "execution_count": null,
   "metadata": {},
   "outputs": [],
   "source": []
  }
 ],
 "metadata": {
  "kernelspec": {
   "display_name": "Python 3",
   "language": "python",
   "name": "python3"
  },
  "language_info": {
   "codemirror_mode": {
    "name": "ipython",
    "version": 3
   },
   "file_extension": ".py",
   "mimetype": "text/x-python",
   "name": "python",
   "nbconvert_exporter": "python",
   "pygments_lexer": "ipython3",
   "version": "3.7.3"
  }
 },
 "nbformat": 4,
 "nbformat_minor": 4
}
